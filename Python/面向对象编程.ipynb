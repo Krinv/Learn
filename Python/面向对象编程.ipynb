{
 "cells": [
  {
   "cell_type": "markdown",
   "id": "1e81eab8",
   "metadata": {},
   "source": [
    "# 面向过程与面向对象"
   ]
  },
  {
   "cell_type": "code",
   "execution_count": 2,
   "id": "65acaea7",
   "metadata": {},
   "outputs": [
    {
     "name": "stdout",
     "output_type": "stream",
     "text": [
      "Michael 98\n"
     ]
    }
   ],
   "source": [
    "# 面向过程示例\n",
    "std1={\n",
    "    'name' : 'Michael',\n",
    "    'score' : 98\n",
    "    }\n",
    "\n",
    "std2={\n",
    "    'name' : 'Bob',\n",
    "    'score' : 81\n",
    "    }\n",
    "\n",
    "#面向过程通过函数实现操作\n",
    "def print_score(std):\n",
    "    print('%s %s' % (std['name'],std['score']))\n",
    "\n",
    "print_score(std1)"
   ]
  },
  {
   "cell_type": "code",
   "execution_count": 3,
   "id": "2b607c0b",
   "metadata": {},
   "outputs": [
    {
     "name": "stdout",
     "output_type": "stream",
     "text": [
      "Bart Simpson: 59\n",
      "Lisa Simpson: 87\n"
     ]
    }
   ],
   "source": [
    "# 面向对象示例\n",
    "# 将学生视作一个数据类型，拥有两个属性，可以执行打印成绩方法\n",
    "\n",
    "#学生类\n",
    "class Student(object):\n",
    "    \n",
    "    #初始化方法\n",
    "    def __init__(self,name,score):\n",
    "        self.name=name\n",
    "        self.score=score\n",
    "\n",
    "    #打印成绩方法\n",
    "    def print_score(self):\n",
    "        print('%s: %s' % (self.name, self.score))\n",
    "\n",
    "Bart=Student('Bart Simpson',59)\n",
    "Lisa=Student('Lisa Simpson',87)\n",
    "\n",
    "Bart.print_score()\n",
    "Lisa.print_score()"
   ]
  },
  {
   "cell_type": "markdown",
   "id": "7b4add6c",
   "metadata": {},
   "source": [
    "# 类和实例\n",
    "面向对象中最重要的便是class和instance概念，类是抽象的模板，实例是根据类创建出来的一个个具体的对象。每个对象拥有相同的方法，但是各自的数据可能不一样"
   ]
  },
  {
   "cell_type": "code",
   "execution_count": null,
   "id": "c15e88b9",
   "metadata": {},
   "outputs": [
    {
     "name": "stdout",
     "output_type": "stream",
     "text": [
      "<__main__.Student object at 0x000001F794987200>\n",
      "<__main__.Student object at 0x000001F794987E60>\n"
     ]
    }
   ],
   "source": [
    "#实例:实例对象指向的内存地址不同\n",
    "print(Bart)\n",
    "print(Lisa)"
   ]
  },
  {
   "cell_type": "markdown",
   "id": "fb08dc77",
   "metadata": {},
   "source": [
    "# 访问限制\n",
    "当类内部的属性没有设置为private时，可以有外部代码修改"
   ]
  },
  {
   "cell_type": "code",
   "execution_count": null,
   "id": "40c1f9f4",
   "metadata": {},
   "outputs": [
    {
     "name": "stdout",
     "output_type": "stream",
     "text": [
      "Jay\n",
      "Jay 77\n"
     ]
    }
   ],
   "source": [
    "class Student2(object):\n",
    "    def  __init__(self,name,score):\n",
    "        self.__name=name    #一般单下划线也视为内部，但其实是可以访问，只是其含义为不建议外部访问\n",
    "        self.__score=score\n",
    "    \n",
    "    def print_score(self):\n",
    "        print('%s %s' %(self.__name,self.__score))\n",
    "\n",
    "    #利用内部方法返回相关属性值——不会被外部代码修改，更安全\n",
    "    def get_name(self):\n",
    "        return self.__name\n",
    "    \n",
    "    #利用内部方法实现值修改，在方法中可以实现参数检查\n",
    "    def set_score(self,score):\n",
    "        #参数检查\n",
    "        if 0<=score<=100:\n",
    "            self.__score=score\n",
    "        else:\n",
    "            raise ValueError('bad score')\n",
    "        self.__socre=score\n",
    "\n",
    "\n",
    "\n",
    "Jay=Student2('Jay',77)\n",
    "\n",
    "#Jay.__name会报错，其实对外解释称以下的形式，因而让你无法访问，不同py可能有不同解释方法\n",
    "print(Jay._Student2__name)\n",
    "\n",
    "Jay.print_score()"
   ]
  },
  {
   "cell_type": "markdown",
   "id": "3c247bca",
   "metadata": {},
   "source": [
    "# 继承与多态"
   ]
  },
  {
   "cell_type": "code",
   "execution_count": null,
   "id": "bce8d8cc",
   "metadata": {},
   "outputs": [
    {
     "name": "stdout",
     "output_type": "stream",
     "text": [
      "Animal is running!\n"
     ]
    }
   ],
   "source": [
    "# 动物类\n",
    "class Animal(object):\n",
    "    #跑步方法\n",
    "    def run(self):\n",
    "        print('Animal is running!')\n",
    "\n",
    "#继承Animal的Dog类\n",
    "class Dog(Animal):\n",
    "    pass\n",
    "\n",
    "dog1=Dog()\n",
    "dog1.run()"
   ]
  },
  {
   "cell_type": "code",
   "execution_count": null,
   "id": "bbdff1ef",
   "metadata": {},
   "outputs": [
    {
     "name": "stdout",
     "output_type": "stream",
     "text": [
      "Cat is running!\n",
      "Cat is eating!\n"
     ]
    }
   ],
   "source": [
    "#在父类基础上增加、修改功能的Cat类\n",
    "class Cat(Animal):\n",
    "    #重写父类方法\n",
    "    def run(self):\n",
    "        print('Cat is running!')\n",
    "\n",
    "    #定义子类特殊方法\n",
    "    def eat(self):\n",
    "        print('Cat is eating!')\n",
    "\n",
    "cat1=Cat()\n",
    "cat1.run()\n",
    "cat1.eat()"
   ]
  },
  {
   "cell_type": "markdown",
   "id": "959301f2",
   "metadata": {},
   "source": [
    "## 判断一个变量某个类型的方法"
   ]
  },
  {
   "cell_type": "code",
   "execution_count": null,
   "id": "c7480c79",
   "metadata": {},
   "outputs": [
    {
     "name": "stdout",
     "output_type": "stream",
     "text": [
      "True\n",
      "True\n",
      "False\n",
      "True\n",
      "True\n"
     ]
    }
   ],
   "source": [
    "a=list()\n",
    "b=Animal()\n",
    "c=Dog()\n",
    "\n",
    "print(isinstance(a,list))\n",
    "print(isinstance(b,Animal))\n",
    "\n",
    "print(isinstance(c,list))\n",
    "print(isinstance(c,Dog))\n",
    "print(isinstance(c,Animal)) #继承父类也是继承其类别"
   ]
  },
  {
   "cell_type": "markdown",
   "id": "4e70701a",
   "metadata": {},
   "source": [
    "## 多态优势具体展现"
   ]
  },
  {
   "cell_type": "code",
   "execution_count": null,
   "id": "efbbc708",
   "metadata": {},
   "outputs": [
    {
     "name": "stdout",
     "output_type": "stream",
     "text": [
      "Animal is running!\n",
      "Animal is running!\n",
      "Cat is running!\n"
     ]
    }
   ],
   "source": [
    "def run(animal):\n",
    "    animal.run()\n",
    "\n",
    "run(Animal())\n",
    "\n",
    "run(Dog())\n",
    "\n",
    "#对于Animal的子类，无需修改函数，即可实现对应的不同结果，这就是多态的好处\n",
    "run(Cat())"
   ]
  },
  {
   "cell_type": "markdown",
   "id": "dd04c358",
   "metadata": {},
   "source": [
    "## 静态与动态语言\n",
    "对于java静态语言，传入Animal就严格要求传入参数一定是Animal类型，而python动态语言仅要求有run方法即可"
   ]
  },
  {
   "cell_type": "markdown",
   "id": "b01e846d",
   "metadata": {},
   "source": [
    "# 获取对象信息"
   ]
  },
  {
   "cell_type": "code",
   "execution_count": 18,
   "id": "b4440aed",
   "metadata": {},
   "outputs": [
    {
     "name": "stdout",
     "output_type": "stream",
     "text": [
      "<class 'int'> \n",
      " <class 'str'> \n",
      " <class 'NoneType'> \n",
      " <class 'builtin_function_or_method'>\n"
     ]
    }
   ],
   "source": [
    "#type函数判断对象类别\n",
    "print(\n",
    "    type(123),'\\n',\n",
    "    type('123'),'\\n',\n",
    "    type(None),'\\n',\n",
    "    type(abs),\n",
    ")\n",
    "\n"
   ]
  },
  {
   "cell_type": "code",
   "execution_count": null,
   "id": "68273d5f",
   "metadata": {},
   "outputs": [],
   "source": [
    "# isInstance判断继承关系"
   ]
  },
  {
   "cell_type": "code",
   "execution_count": 19,
   "id": "2ec363b4",
   "metadata": {},
   "outputs": [
    {
     "data": {
      "text/plain": [
       "['__add__',\n",
       " '__class__',\n",
       " '__contains__',\n",
       " '__delattr__',\n",
       " '__dir__',\n",
       " '__doc__',\n",
       " '__eq__',\n",
       " '__format__',\n",
       " '__ge__',\n",
       " '__getattribute__',\n",
       " '__getitem__',\n",
       " '__getnewargs__',\n",
       " '__getstate__',\n",
       " '__gt__',\n",
       " '__hash__',\n",
       " '__init__',\n",
       " '__init_subclass__',\n",
       " '__iter__',\n",
       " '__le__',\n",
       " '__len__',\n",
       " '__lt__',\n",
       " '__mod__',\n",
       " '__mul__',\n",
       " '__ne__',\n",
       " '__new__',\n",
       " '__reduce__',\n",
       " '__reduce_ex__',\n",
       " '__repr__',\n",
       " '__rmod__',\n",
       " '__rmul__',\n",
       " '__setattr__',\n",
       " '__sizeof__',\n",
       " '__str__',\n",
       " '__subclasshook__',\n",
       " 'capitalize',\n",
       " 'casefold',\n",
       " 'center',\n",
       " 'count',\n",
       " 'encode',\n",
       " 'endswith',\n",
       " 'expandtabs',\n",
       " 'find',\n",
       " 'format',\n",
       " 'format_map',\n",
       " 'index',\n",
       " 'isalnum',\n",
       " 'isalpha',\n",
       " 'isascii',\n",
       " 'isdecimal',\n",
       " 'isdigit',\n",
       " 'isidentifier',\n",
       " 'islower',\n",
       " 'isnumeric',\n",
       " 'isprintable',\n",
       " 'isspace',\n",
       " 'istitle',\n",
       " 'isupper',\n",
       " 'join',\n",
       " 'ljust',\n",
       " 'lower',\n",
       " 'lstrip',\n",
       " 'maketrans',\n",
       " 'partition',\n",
       " 'removeprefix',\n",
       " 'removesuffix',\n",
       " 'replace',\n",
       " 'rfind',\n",
       " 'rindex',\n",
       " 'rjust',\n",
       " 'rpartition',\n",
       " 'rsplit',\n",
       " 'rstrip',\n",
       " 'split',\n",
       " 'splitlines',\n",
       " 'startswith',\n",
       " 'strip',\n",
       " 'swapcase',\n",
       " 'title',\n",
       " 'translate',\n",
       " 'upper',\n",
       " 'zfill']"
      ]
     },
     "execution_count": 19,
     "metadata": {},
     "output_type": "execute_result"
    }
   ],
   "source": [
    "#dir获取一个对象的所有属性、方法\n",
    "dir('abc')"
   ]
  },
  {
   "cell_type": "code",
   "execution_count": 22,
   "id": "883bfa33",
   "metadata": {},
   "outputs": [
    {
     "name": "stdout",
     "output_type": "stream",
     "text": [
      "3\n",
      "abc\n"
     ]
    }
   ],
   "source": [
    "#上面的输出表明了对象的一些特殊使用方法\n",
    "print('abc'.__len__())\n",
    "\n",
    "print('abc'.lower())"
   ]
  },
  {
   "cell_type": "code",
   "execution_count": 24,
   "id": "5cbe628f",
   "metadata": {},
   "outputs": [
    {
     "name": "stdout",
     "output_type": "stream",
     "text": [
      "True\n",
      "9\n",
      "\n",
      "False\n",
      "9\n"
     ]
    }
   ],
   "source": [
    "#一些常用的判断对象状态的方法\n",
    "class MyObject(object):\n",
    "    def __init__(self):\n",
    "        self.x=9\n",
    "    \n",
    "    def power(self):\n",
    "        return self.x*self.x\n",
    "    \n",
    "obj=MyObject()\n",
    "\n",
    "#判断是否有属性x\n",
    "print(hasattr(obj,'x'))\n",
    "print(obj.x)\n",
    "\n",
    "print()\n",
    "print(hasattr(obj,'y'))\n",
    "\n",
    "#获取某属性\n",
    "print(getattr(obj,'x'))\n"
   ]
  },
  {
   "cell_type": "markdown",
   "id": "f05b60b7",
   "metadata": {},
   "source": [
    "# 实例属性和类属性"
   ]
  },
  {
   "cell_type": "markdown",
   "id": "a98bbde5",
   "metadata": {},
   "source": [
    "由于动态语言的特点，允许实例绑定任意属性"
   ]
  },
  {
   "cell_type": "code",
   "execution_count": null,
   "id": "563a2c1d",
   "metadata": {},
   "outputs": [],
   "source": [
    "class S(object):\n",
    "    def __init__(self,name):\n",
    "        self.name=name\n",
    "\n",
    "s=Student('Bob')\n",
    "s.score=90"
   ]
  },
  {
   "cell_type": "code",
   "execution_count": 28,
   "id": "d4f0362c",
   "metadata": {},
   "outputs": [
    {
     "name": "stdout",
     "output_type": "stream",
     "text": [
      "Student\n",
      "jay\n",
      "Student\n"
     ]
    }
   ],
   "source": [
    "#类本身绑定的属性，归他的所有实例都可访问\n",
    "class su(object):\n",
    "    name='Student'\n",
    "\n",
    "s=su()\n",
    "\n",
    "print(s.name)   #s实例中并未初始化name属性，因而会到类中找\n",
    "s.name='jay'\n",
    "print(s.name)   #初始化后，实例的属性有优先值更高\n",
    "\n",
    "#类属性依旧可以查看\n",
    "print(su.name)"
   ]
  }
 ],
 "metadata": {
  "kernelspec": {
   "display_name": "base",
   "language": "python",
   "name": "python3"
  },
  "language_info": {
   "codemirror_mode": {
    "name": "ipython",
    "version": 3
   },
   "file_extension": ".py",
   "mimetype": "text/x-python",
   "name": "python",
   "nbconvert_exporter": "python",
   "pygments_lexer": "ipython3",
   "version": "3.12.7"
  }
 },
 "nbformat": 4,
 "nbformat_minor": 5
}
