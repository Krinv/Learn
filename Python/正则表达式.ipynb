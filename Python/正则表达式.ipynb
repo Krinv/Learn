{
 "cells": [
  {
   "cell_type": "markdown",
   "id": "6fd9fc0f",
   "metadata": {},
   "source": [
    "# 正则表达式"
   ]
  },
  {
   "cell_type": "markdown",
   "id": "4997fef4",
   "metadata": {},
   "source": [
    "# 基础语法"
   ]
  },
  {
   "cell_type": "markdown",
   "id": "7cfdee82",
   "metadata": {},
   "source": [
    "## 精准匹配\n",
    "\\d  匹配一个数字    \n",
    "'00\\d'匹配所有00开头下一个为数字的，如007、008等\n",
    "\n",
    "\\w  匹配一个字母或数字\n",
    "\n",
    ".   匹配任意字符    \n",
    "'pyc'、'py1'、'py!'"
   ]
  },
  {
   "cell_type": "markdown",
   "id": "5a004ac0",
   "metadata": {},
   "source": [
    "## 可变长\n",
    "\\*  表示任意数量的字符，包括0个\n",
    "\n",
    "\\+   表示至少一个字符\n",
    "\n",
    "\\s  表示一个空格\n",
    "\n",
    "?   表示0或1个字符\n",
    "\n",
    "{n} 表示n个字符     \n",
    "{n,m}   表示n到m个字符\n",
    "\n",
    "\n",
    "\\d{3}\\s+\\d{3,8}     \n",
    "三个数字、至少一个空格、三到八个数字"
   ]
  },
  {
   "cell_type": "markdown",
   "id": "1dbecb35",
   "metadata": {},
   "source": [
    "## 进阶\n",
    "[ ]  表示范围    \n",
    "[0-9a-zA-Z\\_]   此一字符可为数字/大小写字母/下划线      \n",
    "[0-9a-zA-Z\\_]+  此一字符串，至少由一个数字/大小写字母/下划线组成    \n",
    "[a-zA-Z\\_][0-9a-zA-Z\\_]*    此一字符串，由一个数字/大小写字母/下划线组成    \n",
    "[a-zA-Z\\_][0-9a-zA-Z\\_]{0, 19}    此一字符串，由一个数字/大小写字母/下划线组成，长度0-19  "
   ]
  },
  {
   "cell_type": "markdown",
   "id": "d7cc3179",
   "metadata": {},
   "source": [
    "A|B     匹配A或者B  \n",
    "(P|p)ython\n",
    "\n",
    "^   表示行的开头\n",
    "^\\d     表示必须以一个数字开头\n",
    "\n",
    "\\$   表示行结束  \n",
    "\\d \\$     表示必须以一个数字结束      "
   ]
  },
  {
   "cell_type": "markdown",
   "id": "e14ed816",
   "metadata": {},
   "source": [
    "# re模块\n",
    "python中的所有正则表达式功能模块。  \n",
    "python字符串中也用\\转义，因而有时要注意加两个\\"
   ]
  },
  {
   "cell_type": "code",
   "execution_count": 2,
   "id": "e69144f1",
   "metadata": {},
   "outputs": [
    {
     "data": {
      "text/plain": [
       "<re.Match object; span=(0, 9), match='010-12345'>"
      ]
     },
     "execution_count": 2,
     "metadata": {},
     "output_type": "execute_result"
    }
   ],
   "source": [
    "import re\n",
    "\n",
    "#使用r字符串会省去转义的麻烦考虑\n",
    "#匹配成果会返回一个match对象\n",
    "re.match(r'^\\d{3}\\-\\d{3,8}$','010-12345')"
   ]
  },
  {
   "cell_type": "markdown",
   "id": "573f8c7a",
   "metadata": {},
   "source": [
    "# 切分字符串\n",
    "用正则表达式可以做到更加灵活地切分字符串"
   ]
  },
  {
   "cell_type": "code",
   "execution_count": 3,
   "id": "2f77b12a",
   "metadata": {},
   "outputs": [
    {
     "data": {
      "text/plain": [
       "['a', 'b', '', '', '', 'c']"
      ]
     },
     "execution_count": 3,
     "metadata": {},
     "output_type": "execute_result"
    }
   ],
   "source": [
    "#将带有空格的字符串切除，使用传统方式不太好识别\n",
    "'a b    c'.split(' ')"
   ]
  },
  {
   "cell_type": "code",
   "execution_count": 6,
   "id": "d543bf80",
   "metadata": {},
   "outputs": [
    {
     "data": {
      "text/plain": [
       "['a', 'b', 'c']"
      ]
     },
     "execution_count": 6,
     "metadata": {},
     "output_type": "execute_result"
    }
   ],
   "source": [
    "#使用正则表达式\n",
    "#分割符为至少一个空格（实现切割连续空格）\n",
    "re.split(r'\\s+','a b   c')"
   ]
  },
  {
   "cell_type": "code",
   "execution_count": 7,
   "id": "b803e881",
   "metadata": {},
   "outputs": [
    {
     "data": {
      "text/plain": [
       "['a', 'b', 'c', 'd']"
      ]
     },
     "execution_count": 7,
     "metadata": {},
     "output_type": "execute_result"
    }
   ],
   "source": [
    "#匹配至少一个，可为空格或逗号\n",
    "re.split(r'[\\s\\,]+', 'a,b, c  d')"
   ]
  },
  {
   "cell_type": "markdown",
   "id": "dae33494",
   "metadata": {},
   "source": [
    "# 分组\n",
    "使用()实现分组，可以在匹配的内容中提取特定分组内容"
   ]
  },
  {
   "cell_type": "code",
   "execution_count": null,
   "id": "841eab15",
   "metadata": {},
   "outputs": [
    {
     "data": {
      "text/plain": [
       "<re.Match object; span=(0, 9), match='010-12345'>"
      ]
     },
     "execution_count": 9,
     "metadata": {},
     "output_type": "execute_result"
    }
   ],
   "source": [
    "#区号-本地号码，3位数字开头，3-8位数字结尾\n",
    "m=re.match(r'^(\\d{3})-(\\d{3,8})$','010-12345')\n",
    "m"
   ]
  },
  {
   "cell_type": "code",
   "execution_count": 10,
   "id": "0f0e8fe5",
   "metadata": {},
   "outputs": [
    {
     "name": "stdout",
     "output_type": "stream",
     "text": [
      "010-12345\n",
      "010\n",
      "12345\n"
     ]
    }
   ],
   "source": [
    "#元匹配串\n",
    "print(m.group(0))\n",
    "\n",
    "#提取区号\n",
    "print(m.group(1))\n",
    "\n",
    "#提取本地号码\n",
    "print(m.group(2))\n"
   ]
  },
  {
   "cell_type": "markdown",
   "id": "44409f16",
   "metadata": {},
   "source": [
    "# 贪婪匹配\n",
    "正则匹配默认是贪婪匹配，即匹配尽可能多的字符"
   ]
  },
  {
   "cell_type": "code",
   "execution_count": null,
   "id": "e9f7739d",
   "metadata": {},
   "outputs": [
    {
     "data": {
      "text/plain": [
       "('102300', '')"
      ]
     },
     "execution_count": 11,
     "metadata": {},
     "output_type": "execute_result"
    }
   ],
   "source": [
    "#第一个分组中匹配完了所有内容，导致第二分组没有分到内容\n",
    "re.match(r'^(\\d+)(0*)$', '102300').groups()"
   ]
  },
  {
   "cell_type": "code",
   "execution_count": 12,
   "id": "7a2c74de",
   "metadata": {},
   "outputs": [
    {
     "data": {
      "text/plain": [
       "('1023', '00')"
      ]
     },
     "execution_count": 12,
     "metadata": {},
     "output_type": "execute_result"
    }
   ],
   "source": [
    "#使用?实现非贪婪匹配\n",
    "re.match(r'^(\\d+?)(0*)$', '102300').groups()"
   ]
  },
  {
   "cell_type": "markdown",
   "id": "9ddae310",
   "metadata": {},
   "source": [
    "# 编译\n",
    "使用re时，会进行先编译再匹配，如果一次式子多次使用，可以先预编译，以节省资源"
   ]
  },
  {
   "cell_type": "code",
   "execution_count": 15,
   "id": "ed39d672",
   "metadata": {},
   "outputs": [
    {
     "data": {
      "text/plain": [
       "('010', '12345')"
      ]
     },
     "execution_count": 15,
     "metadata": {},
     "output_type": "execute_result"
    }
   ],
   "source": [
    "import re\n",
    "\n",
    "#编译\n",
    "re_telephone=re.compile(r'^(\\d{3})-(\\d{3,8})$')\n",
    "\n",
    "#使用\n",
    "re_telephone.match('010-12345').groups()"
   ]
  }
 ],
 "metadata": {
  "kernelspec": {
   "display_name": "base",
   "language": "python",
   "name": "python3"
  },
  "language_info": {
   "codemirror_mode": {
    "name": "ipython",
    "version": 3
   },
   "file_extension": ".py",
   "mimetype": "text/x-python",
   "name": "python",
   "nbconvert_exporter": "python",
   "pygments_lexer": "ipython3",
   "version": "3.12.7"
  }
 },
 "nbformat": 4,
 "nbformat_minor": 5
}
