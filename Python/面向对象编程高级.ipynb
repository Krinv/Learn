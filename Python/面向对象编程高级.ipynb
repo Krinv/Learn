{
 "cells": [
  {
   "cell_type": "markdown",
   "id": "d4790b26",
   "metadata": {},
   "source": [
    "# 使用__slots__\n",
    "## 给实例绑定属性和方法的一些方式"
   ]
  },
  {
   "cell_type": "code",
   "execution_count": 7,
   "id": "9f13ac2c",
   "metadata": {},
   "outputs": [
    {
     "name": "stdout",
     "output_type": "stream",
     "text": [
      "Michael\n"
     ]
    }
   ],
   "source": [
    "class Student(object):\n",
    "    pass\n",
    "\n",
    "s=Student()\n",
    "\n",
    "#动态给实例绑定一个属性\n",
    "s.name='Michael'\n",
    "\n",
    "print(s.name)"
   ]
  },
  {
   "cell_type": "code",
   "execution_count": 8,
   "id": "2d595979",
   "metadata": {},
   "outputs": [
    {
     "ename": "AttributeError",
     "evalue": "'Student' object has no attribute 'name'",
     "output_type": "error",
     "traceback": [
      "\u001b[1;31m---------------------------------------------------------------------------\u001b[0m",
      "\u001b[1;31mAttributeError\u001b[0m                            Traceback (most recent call last)",
      "Cell \u001b[1;32mIn[8], line 3\u001b[0m\n\u001b[0;32m      1\u001b[0m \u001b[38;5;66;03m#但这在另一个实例上则不生效\u001b[39;00m\n\u001b[0;32m      2\u001b[0m s1\u001b[38;5;241m=\u001b[39mStudent()\n\u001b[1;32m----> 3\u001b[0m \u001b[38;5;28mprint\u001b[39m(s1\u001b[38;5;241m.\u001b[39mname)\n",
      "\u001b[1;31mAttributeError\u001b[0m: 'Student' object has no attribute 'name'"
     ]
    }
   ],
   "source": [
    "#但这在另一个实例上则不生效\n",
    "s1=Student()\n",
    "print(s1.name)"
   ]
  },
  {
   "cell_type": "code",
   "execution_count": 9,
   "id": "a37c8688",
   "metadata": {},
   "outputs": [
    {
     "name": "stdout",
     "output_type": "stream",
     "text": [
      "Michael\n"
     ]
    }
   ],
   "source": [
    "#可以通过给类绑定属性实现效果\n",
    "Student.name='Michael'\n",
    "print(s1.name)"
   ]
  },
  {
   "cell_type": "code",
   "execution_count": 10,
   "id": "14ac38b6",
   "metadata": {},
   "outputs": [
    {
     "name": "stdout",
     "output_type": "stream",
     "text": [
      "25\n"
     ]
    }
   ],
   "source": [
    "#同样可以实现方法的动态绑定\n",
    "def set_score(self,score):\n",
    "    self.score=score\n",
    "\n",
    "#绑定方法\n",
    "from types import MethodType    #用于将实例与方法绑定的函数\n",
    "s.set_score=MethodType(set_score,s)\n",
    "\n",
    "s.set_score(25)\n",
    "print(s.score)"
   ]
  },
  {
   "cell_type": "code",
   "execution_count": 11,
   "id": "dac902dc",
   "metadata": {},
   "outputs": [
    {
     "name": "stdout",
     "output_type": "stream",
     "text": [
      "10\n"
     ]
    }
   ],
   "source": [
    "#同样的需要对类绑定才能作用在所有实例\n",
    "Student.set_score=set_score\n",
    "\n",
    "s1.set_score(10)\n",
    "print(s1.score)"
   ]
  },
  {
   "cell_type": "markdown",
   "id": "c0457b2d",
   "metadata": {},
   "source": [
    "## __slot__函数\n",
    "用于限制可以对某个类添加的属性"
   ]
  },
  {
   "cell_type": "code",
   "execution_count": 12,
   "id": "63b5a426",
   "metadata": {},
   "outputs": [],
   "source": [
    "#限制允许添加的属性，用tuple定义\n",
    "class S(object):\n",
    "    __slots__=('name','age')\n",
    "\n",
    "s2=S()\n",
    "s2.name='Jay'"
   ]
  },
  {
   "cell_type": "code",
   "execution_count": 13,
   "id": "75c24c51",
   "metadata": {},
   "outputs": [
    {
     "ename": "AttributeError",
     "evalue": "'S' object has no attribute 'score'",
     "output_type": "error",
     "traceback": [
      "\u001b[1;31m---------------------------------------------------------------------------\u001b[0m",
      "\u001b[1;31mAttributeError\u001b[0m                            Traceback (most recent call last)",
      "Cell \u001b[1;32mIn[13], line 1\u001b[0m\n\u001b[1;32m----> 1\u001b[0m s2\u001b[38;5;241m.\u001b[39mscore\u001b[38;5;241m=\u001b[39m\u001b[38;5;241m9\u001b[39m\n",
      "\u001b[1;31mAttributeError\u001b[0m: 'S' object has no attribute 'score'"
     ]
    }
   ],
   "source": [
    "s2.score=9"
   ]
  },
  {
   "cell_type": "markdown",
   "id": "e6423e33",
   "metadata": {},
   "source": [
    "# 使用@property"
   ]
  },
  {
   "cell_type": "code",
   "execution_count": 14,
   "id": "18ef2125",
   "metadata": {},
   "outputs": [],
   "source": [
    "class Student(object):\n",
    "    def get_score(self):\n",
    "        return self._score\n",
    "\n",
    "    def set_score(self, value):\n",
    "        if not isinstance(value, int):\n",
    "            #使用错误抛出实现报错提醒\n",
    "            raise ValueError('score must be an integer!')\n",
    "        if value < 0 or value > 100:\n",
    "            raise ValueError('score must between 0 ~ 100!')\n",
    "        self._score = value\n"
   ]
  },
  {
   "cell_type": "code",
   "execution_count": 15,
   "id": "a1ef59d7",
   "metadata": {},
   "outputs": [],
   "source": [
    "s=Student()\n",
    "s.set_score(10)"
   ]
  },
  {
   "cell_type": "code",
   "execution_count": 16,
   "id": "11380f44",
   "metadata": {},
   "outputs": [
    {
     "ename": "ValueError",
     "evalue": "score must between 0 ~ 100!",
     "output_type": "error",
     "traceback": [
      "\u001b[1;31m---------------------------------------------------------------------------\u001b[0m",
      "\u001b[1;31mValueError\u001b[0m                                Traceback (most recent call last)",
      "Cell \u001b[1;32mIn[16], line 1\u001b[0m\n\u001b[1;32m----> 1\u001b[0m s\u001b[38;5;241m.\u001b[39mset_score(\u001b[38;5;241m1000\u001b[39m)\n",
      "Cell \u001b[1;32mIn[14], line 10\u001b[0m, in \u001b[0;36mStudent.set_score\u001b[1;34m(self, value)\u001b[0m\n\u001b[0;32m      8\u001b[0m     \u001b[38;5;28;01mraise\u001b[39;00m \u001b[38;5;167;01mValueError\u001b[39;00m(\u001b[38;5;124m'\u001b[39m\u001b[38;5;124mscore must be an integer!\u001b[39m\u001b[38;5;124m'\u001b[39m)\n\u001b[0;32m      9\u001b[0m \u001b[38;5;28;01mif\u001b[39;00m value \u001b[38;5;241m<\u001b[39m \u001b[38;5;241m0\u001b[39m \u001b[38;5;129;01mor\u001b[39;00m value \u001b[38;5;241m>\u001b[39m \u001b[38;5;241m100\u001b[39m:\n\u001b[1;32m---> 10\u001b[0m     \u001b[38;5;28;01mraise\u001b[39;00m \u001b[38;5;167;01mValueError\u001b[39;00m(\u001b[38;5;124m'\u001b[39m\u001b[38;5;124mscore must between 0 ~ 100!\u001b[39m\u001b[38;5;124m'\u001b[39m)\n\u001b[0;32m     11\u001b[0m \u001b[38;5;28mself\u001b[39m\u001b[38;5;241m.\u001b[39m_score \u001b[38;5;241m=\u001b[39m value\n",
      "\u001b[1;31mValueError\u001b[0m: score must between 0 ~ 100!"
     ]
    }
   ],
   "source": [
    "s.set_score(1000)"
   ]
  },
  {
   "cell_type": "markdown",
   "id": "be649103",
   "metadata": {},
   "source": [
    "## @property\n",
    "将类的方法变成属性调用，使得更加直观方便，一般是set类方法"
   ]
  },
  {
   "cell_type": "code",
   "execution_count": 17,
   "id": "e5c59c74",
   "metadata": {},
   "outputs": [
    {
     "name": "stdout",
     "output_type": "stream",
     "text": [
      "20\n"
     ]
    }
   ],
   "source": [
    "#原方法调用\n",
    "s.set_score(20)\n",
    "print(s.get_score())"
   ]
  },
  {
   "cell_type": "code",
   "execution_count": 18,
   "id": "a0e5f038",
   "metadata": {},
   "outputs": [],
   "source": [
    "#通过property实现方法转属性\n",
    "class Student(object):\n",
    "    \n",
    "    #这个是getter方法，直接用property修饰即可\n",
    "    @property\n",
    "    def score(self):\n",
    "        return self._score\n",
    "\n",
    "    #这个是由property衍生的setter方法\n",
    "    @score.setter\n",
    "    def score(self,value):\n",
    "        if not isinstance(value,int):\n",
    "            raise ValueError('Score must be an integer!')\n",
    "        if value<0 or value>100:\n",
    "            raise ValueError('Score must between 0~100!')\n",
    "        \n",
    "        self._score=value\n"
   ]
  },
  {
   "cell_type": "code",
   "execution_count": 19,
   "id": "39fb8087",
   "metadata": {},
   "outputs": [
    {
     "data": {
      "text/plain": [
       "60"
      ]
     },
     "execution_count": 19,
     "metadata": {},
     "output_type": "execute_result"
    }
   ],
   "source": [
    "s4=Student()\n",
    "s4.score=60 #相当于s.score(60)\n",
    "\n",
    "s4.score    #相当于s.score()"
   ]
  },
  {
   "cell_type": "code",
   "execution_count": 20,
   "id": "5f7c101d",
   "metadata": {},
   "outputs": [],
   "source": [
    "#定义只读元素,对于没有setter方法的便是只读元素\n",
    "class Student(object):\n",
    "    \n",
    "    @property\n",
    "    def birth(self):\n",
    "        return self._birth  #注意这里的属性名不能跟方法名重，会导致错误\n",
    "    \n",
    "    @birth.setter\n",
    "    def birth(self,value):\n",
    "        self._birth=value\n",
    "    \n",
    "    #对于age即是一个只读元素\n",
    "    @property\n",
    "    def age(self):\n",
    "        return 2025-self._birth"
   ]
  },
  {
   "cell_type": "markdown",
   "id": "e273afdf",
   "metadata": {},
   "source": [
    "# 多重继承\n",
    "很多情况下，可能根据一个类别的多种属性，需要进行多重分类继承"
   ]
  },
  {
   "cell_type": "code",
   "execution_count": 21,
   "id": "d531fd4f",
   "metadata": {},
   "outputs": [],
   "source": [
    "#第一大类   动物\n",
    "class Animal(object):\n",
    "    pass\n",
    "\n",
    "#第二大类   类别动物\n",
    "class Mammal(Animal):\n",
    "    pass\n",
    "class Bird(Animal):\n",
    "    pass\n",
    "\n",
    "#第三大类   具体动物\n",
    "class Dog(Mammal):\n",
    "    pass\n",
    "class Bat(Mammal):\n",
    "    pass\n",
    "class Parrot(Bird):\n",
    "    pass\n",
    "class Ostrich(Bird):\n",
    "    pass"
   ]
  },
  {
   "cell_type": "code",
   "execution_count": 22,
   "id": "65fedc20",
   "metadata": {},
   "outputs": [],
   "source": [
    "#如果要继承特定功能\n",
    "class Runnable(object):\n",
    "    def run(self):\n",
    "        print('Running')\n",
    "\n",
    "class Flyable(object):\n",
    "    def fly(self):\n",
    "        print('Flying')\n",
    "\n",
    "#进行多继承\n",
    "class Dog(Mammal,Runnable):\n",
    "    pass"
   ]
  },
  {
   "cell_type": "markdown",
   "id": "edeb2b11",
   "metadata": {},
   "source": [
    "## MixIn\n",
    "一般为了更好体现继承的类别，对于增加功能的继承，命名附加MixIn"
   ]
  },
  {
   "cell_type": "code",
   "execution_count": 23,
   "id": "2bb550ef",
   "metadata": {},
   "outputs": [],
   "source": [
    "#可跑、肉食\n",
    "class RunnableMixIn(object):\n",
    "    pass\n",
    "\n",
    "class CarnivorousMixIn(object):\n",
    "    pass\n",
    "\n",
    "class Dog(Mammal,RunnableMixIn,CarnivorousMixIn):\n",
    "    pass"
   ]
  },
  {
   "cell_type": "markdown",
   "id": "2dbbf628",
   "metadata": {},
   "source": [
    "# 定制类"
   ]
  },
  {
   "cell_type": "markdown",
   "id": "016f47e2",
   "metadata": {},
   "source": [
    "## __ str __\n",
    "返回一个较为好看的字符串"
   ]
  },
  {
   "cell_type": "code",
   "execution_count": null,
   "id": "8a360925",
   "metadata": {},
   "outputs": [
    {
     "name": "stdout",
     "output_type": "stream",
     "text": [
      "<__main__.Student object at 0x0000025CFB150440>\n"
     ]
    }
   ],
   "source": [
    "class Student(object):\n",
    "    def __init__(self,name):\n",
    "        self.name=name\n",
    "\n",
    "print(Student('Michael'))   #并不雅致"
   ]
  },
  {
   "cell_type": "code",
   "execution_count": null,
   "id": "5249fdde",
   "metadata": {},
   "outputs": [
    {
     "name": "stdout",
     "output_type": "stream",
     "text": [
      "Student object (name: Michael)\n"
     ]
    }
   ],
   "source": [
    "#定义一个更雅致的\n",
    "class Student(object):\n",
    "    def __init__(self,name):\n",
    "        self.name=name\n",
    "    def __str__(self):\n",
    "        return 'Student object (name: %s)' %self.name\n",
    "    \n",
    "print(Student('Michael'))   #调用__str__时"
   ]
  },
  {
   "cell_type": "code",
   "execution_count": null,
   "id": "c1bfb841",
   "metadata": {},
   "outputs": [
    {
     "data": {
      "text/plain": [
       "<__main__.Student at 0x25cfceb9f10>"
      ]
     },
     "execution_count": 28,
     "metadata": {},
     "output_type": "execute_result"
    }
   ],
   "source": [
    "s=Student('Michael')\n",
    "s   #直接显示变量调用的是__repr__()"
   ]
  },
  {
   "cell_type": "markdown",
   "id": "2f6acc6c",
   "metadata": {},
   "source": [
    "## __ iter __\n",
    "可迭代的类实现必须"
   ]
  },
  {
   "cell_type": "code",
   "execution_count": null,
   "id": "6f1db8d7",
   "metadata": {},
   "outputs": [
    {
     "name": "stdout",
     "output_type": "stream",
     "text": [
      "1\n",
      "1\n",
      "2\n",
      "3\n",
      "5\n",
      "8\n",
      "13\n",
      "21\n",
      "34\n",
      "55\n",
      "89\n",
      "144\n",
      "233\n",
      "377\n",
      "610\n",
      "987\n",
      "1597\n",
      "2584\n",
      "4181\n",
      "6765\n"
     ]
    }
   ],
   "source": [
    "class Fib(object):\n",
    "    #初始化\n",
    "    def __init__(self):\n",
    "        self.a,self.b=0,1\n",
    "\n",
    "    #迭代对象——为实例本身\n",
    "    def __iter__(self):\n",
    "        return self\n",
    "    \n",
    "    #下一个迭代\n",
    "    def __next__(self):\n",
    "        self.a,self.b=self.b,self.a+self.b\n",
    "        if self.a>10000:\n",
    "            raise StopIteration()\n",
    "        return self.a\n",
    "\n",
    "#可迭代类即可用于循环:不断调用内部__next__实现迭代\n",
    "for n in Fib():\n",
    "    print(n)"
   ]
  },
  {
   "cell_type": "markdown",
   "id": "6f3ec739",
   "metadata": {},
   "source": [
    "## __ getitem __\n",
    "类似list一样取出元素的方法"
   ]
  },
  {
   "cell_type": "code",
   "execution_count": 33,
   "id": "29cd148f",
   "metadata": {},
   "outputs": [
    {
     "name": "stdout",
     "output_type": "stream",
     "text": [
      "1\n",
      "3\n"
     ]
    }
   ],
   "source": [
    "class Fib(object):\n",
    "    def __getitem__(self,n):\n",
    "        a,b=1,1\n",
    "        for x in range(n):\n",
    "            a,b=b,b+a\n",
    "        return a\n",
    "\n",
    "#实现访问\n",
    "f=Fib()\n",
    "print(f[0])\n",
    "print(f[3])"
   ]
  },
  {
   "cell_type": "markdown",
   "id": "46e9265a",
   "metadata": {},
   "source": [
    "## __ getattr __\n",
    "对于不想设置的属性，又想调用，可以用该方法实现"
   ]
  },
  {
   "cell_type": "code",
   "execution_count": 35,
   "id": "5b663a7d",
   "metadata": {},
   "outputs": [
    {
     "data": {
      "text/plain": [
       "99"
      ]
     },
     "execution_count": 35,
     "metadata": {},
     "output_type": "execute_result"
    }
   ],
   "source": [
    "class Student(object):\n",
    "    def __init__(self):\n",
    "        self.name='Michael'\n",
    "    \n",
    "    def __getattr__(self,attr):\n",
    "        if attr=='score':\n",
    "            return 99\n",
    "        \n",
    "s=Student()\n",
    "s.score"
   ]
  },
  {
   "cell_type": "markdown",
   "id": "be133c76",
   "metadata": {},
   "source": [
    "## __ call __\n",
    "实现直接对实例调用"
   ]
  },
  {
   "cell_type": "code",
   "execution_count": 42,
   "id": "2b315104",
   "metadata": {},
   "outputs": [
    {
     "name": "stdout",
     "output_type": "stream",
     "text": [
      "My name is Michael\n"
     ]
    }
   ],
   "source": [
    "class Student(object):\n",
    "    def __init__(self,name):\n",
    "        self.name = name\n",
    "    \n",
    "    def __call__(self):\n",
    "        print('My name is %s' % self.name)\n",
    "    \n",
    "s=Student('Michael')\n",
    "s()"
   ]
  },
  {
   "cell_type": "markdown",
   "id": "4e98f2b6",
   "metadata": {},
   "source": [
    "# 使用枚举类\n",
    "定义常量时，常用int，但是这样本质依旧是变量。\n",
    "更好的办法是为这样的枚举类型定义一个class，每个常量为其唯一的实例"
   ]
  },
  {
   "cell_type": "code",
   "execution_count": 44,
   "id": "6b93bf5b",
   "metadata": {},
   "outputs": [
    {
     "name": "stdout",
     "output_type": "stream",
     "text": [
      "Jan => Month.Jan , 1\n",
      "Feb => Month.Feb , 2\n",
      "Mar => Month.Mar , 3\n"
     ]
    }
   ],
   "source": [
    "from enum import Enum\n",
    "\n",
    "Month=Enum('Month',('Jan','Feb','Mar')) #获得Month枚举类\n",
    "\n",
    "for name,member in Month.__members__.items():\n",
    "    print(name,'=>',member,',',member.value)"
   ]
  }
 ],
 "metadata": {
  "kernelspec": {
   "display_name": "base",
   "language": "python",
   "name": "python3"
  },
  "language_info": {
   "codemirror_mode": {
    "name": "ipython",
    "version": 3
   },
   "file_extension": ".py",
   "mimetype": "text/x-python",
   "name": "python",
   "nbconvert_exporter": "python",
   "pygments_lexer": "ipython3",
   "version": "3.12.7"
  }
 },
 "nbformat": 4,
 "nbformat_minor": 5
}
