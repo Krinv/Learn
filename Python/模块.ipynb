{
 "cells": [
  {
   "cell_type": "markdown",
   "id": "463bd92e",
   "metadata": {},
   "source": [
    "# 标准模块"
   ]
  },
  {
   "cell_type": "code",
   "execution_count": 1,
   "id": "bf5bc085",
   "metadata": {},
   "outputs": [
    {
     "name": "stdout",
     "output_type": "stream",
     "text": [
      "Hello,--f=c:\\Users\\Krinv\\AppData\\Roaming\\jupyter\\runtime\\kernel-v3de011971badc91431ed1a6bdc3991ace3786ac53.json!\n"
     ]
    }
   ],
   "source": [
    "#一个以内建sys模块为基础的示例\n",
    "\n",
    "#!/usr/bin/env python3      使文件在linux等系统运行的注释\n",
    "# -*- coding: utf-8 -*-     编码方式\n",
    "\n",
    "'a test module'\n",
    "\n",
    "__author__='Krinv'\n",
    "\n",
    "import sys\n",
    "\n",
    "def test():\n",
    "    args=sys.argv\n",
    "\n",
    "    if len(args)==1:\n",
    "        print('Hello World!')\n",
    "    elif len(args)==2:\n",
    "        print('Hello,%s!' %args[1])\n",
    "    else:\n",
    "        print('Too many arguments!')\n",
    "\n",
    "if __name__=='__main__':\n",
    "    test()"
   ]
  },
  {
   "cell_type": "markdown",
   "id": "c6cf3c0b",
   "metadata": {},
   "source": [
    "# 作用域"
   ]
  },
  {
   "cell_type": "code",
   "execution_count": 2,
   "id": "ae15b842",
   "metadata": {},
   "outputs": [],
   "source": [
    "def _len():\n",
    "    print(111111)"
   ]
  },
  {
   "cell_type": "code",
   "execution_count": 3,
   "id": "19af4954",
   "metadata": {},
   "outputs": [
    {
     "name": "stdout",
     "output_type": "stream",
     "text": [
      "111111\n"
     ]
    }
   ],
   "source": [
    "a=0     # a为公开public的变量\n",
    "len('111')   # len为公开public的函数\n",
    "\n",
    "__name__  #特殊变量，可被直接引用，但有特殊用途。自己变量一般不用这种命名\n",
    "\n",
    "_b=11   #非公开private的变量，不该被直接引用\n",
    "_len()  #非公开private的函数，不该被直接引用"
   ]
  },
  {
   "cell_type": "code",
   "execution_count": 4,
   "id": "91f13576",
   "metadata": {},
   "outputs": [],
   "source": [
    "# private函数的作用——封装和抽象\n",
    "def _private_1(name):\n",
    "    return 'Hello, %s' % name\n",
    "\n",
    "def _private_2(name):\n",
    "    return 'Hi, %s' %name\n",
    "\n",
    "#模块中公开greeting函数，而内部逻辑隐藏两个private函数，因此调用greeting时无需关心两个私有函数的实现细节\n",
    "def greeting(name):\n",
    "    if len(name)>3:\n",
    "        return _private_1(name)\n",
    "    else:\n",
    "        return _private_2(name)"
   ]
  }
 ],
 "metadata": {
  "kernelspec": {
   "display_name": "base",
   "language": "python",
   "name": "python3"
  },
  "language_info": {
   "codemirror_mode": {
    "name": "ipython",
    "version": 3
   },
   "file_extension": ".py",
   "mimetype": "text/x-python",
   "name": "python",
   "nbconvert_exporter": "python",
   "pygments_lexer": "ipython3",
   "version": "3.12.7"
  }
 },
 "nbformat": 4,
 "nbformat_minor": 5
}
