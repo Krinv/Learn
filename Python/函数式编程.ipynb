{
 "cells": [
  {
   "cell_type": "markdown",
   "id": "a302f3bf",
   "metadata": {},
   "source": [
    "# 高阶函数"
   ]
  },
  {
   "cell_type": "code",
   "execution_count": null,
   "id": "3209de09",
   "metadata": {},
   "outputs": [
    {
     "data": {
      "text/plain": [
       "<function abs(x, /)>"
      ]
     },
     "execution_count": 2,
     "metadata": {},
     "output_type": "execute_result"
    }
   ],
   "source": [
    "#函数名本身是变量\n",
    "abs\n",
    "\n",
    "#可以赋值abs=10,使其不指向绝对值函数"
   ]
  },
  {
   "cell_type": "code",
   "execution_count": 4,
   "id": "f059aaeb",
   "metadata": {},
   "outputs": [
    {
     "name": "stdout",
     "output_type": "stream",
     "text": [
      "<built-in function abs>\n",
      "10\n"
     ]
    }
   ],
   "source": [
    "f=abs\n",
    "print(f)\n",
    "print(f(-10))"
   ]
  },
  {
   "cell_type": "code",
   "execution_count": 5,
   "id": "7e7565a4",
   "metadata": {},
   "outputs": [
    {
     "name": "stdout",
     "output_type": "stream",
     "text": [
      "11\n"
     ]
    }
   ],
   "source": [
    "#可以作为传入参数\n",
    "def add(x,y,f):\n",
    "    return f(x)+f(y)\n",
    "\n",
    "print(add(5,6,f))"
   ]
  },
  {
   "cell_type": "markdown",
   "id": "abcde314",
   "metadata": {},
   "source": [
    "## Map/Reduce"
   ]
  },
  {
   "cell_type": "markdown",
   "id": "b780673b",
   "metadata": {},
   "source": [
    "### Map函数\n",
    "接收一个函数、一个可迭代Iterable，将函数作用于Iterable中的所有元素"
   ]
  },
  {
   "cell_type": "code",
   "execution_count": 6,
   "id": "ed96c6c3",
   "metadata": {},
   "outputs": [
    {
     "name": "stdout",
     "output_type": "stream",
     "text": [
      "[1, 4, 9, 16, 25, 36]\n"
     ]
    }
   ],
   "source": [
    "def f(x):\n",
    "    return x*x\n",
    "\n",
    "L=[1,2,3,4,5,6]\n",
    "\n",
    "r=map(f,L)\n",
    "\n",
    "print(list(r))"
   ]
  },
  {
   "cell_type": "code",
   "execution_count": null,
   "id": "2d368b71",
   "metadata": {},
   "outputs": [
    {
     "data": {
      "text/plain": [
       "['1', '2', '3', '4', '5', '6', '7', '8', '9']"
      ]
     },
     "execution_count": 7,
     "metadata": {},
     "output_type": "execute_result"
    }
   ],
   "source": [
    "#全部转化成字符串\n",
    "list(map(str, [1, 2, 3, 4, 5, 6, 7, 8, 9]))"
   ]
  },
  {
   "cell_type": "markdown",
   "id": "44c33fcb",
   "metadata": {},
   "source": [
    "### Reduce函数\n",
    "接收一个函数，一个序列，将函数作用在序列的第一个元素，再将得到结果与序列下一个元素作累计计算"
   ]
  },
  {
   "cell_type": "code",
   "execution_count": 10,
   "id": "e638d7ac",
   "metadata": {},
   "outputs": [
    {
     "data": {
      "text/plain": [
       "10"
      ]
     },
     "execution_count": 10,
     "metadata": {},
     "output_type": "execute_result"
    }
   ],
   "source": [
    "# 即可理解 Reduce(f,[x,y,z])==f(f(x,y),z)的嵌套\n",
    "\n",
    "#因而要求函数必须要有两个接收参数\n",
    "from functools import reduce\n",
    "def add(x,y):\n",
    "    return x+y\n",
    "\n",
    "reduce(add,[1,2,3,4])"
   ]
  },
  {
   "cell_type": "code",
   "execution_count": 11,
   "id": "499b914d",
   "metadata": {},
   "outputs": [
    {
     "data": {
      "text/plain": [
       "13579"
      ]
     },
     "execution_count": 11,
     "metadata": {},
     "output_type": "execute_result"
    }
   ],
   "source": [
    "from functools import reduce\n",
    "def fn(x, y):\n",
    "    return x * 10 + y\n",
    "\n",
    "reduce(fn, [1, 3, 5, 7, 9])"
   ]
  },
  {
   "cell_type": "code",
   "execution_count": null,
   "id": "fe56c65e",
   "metadata": {},
   "outputs": [
    {
     "name": "stdout",
     "output_type": "stream",
     "text": [
      "[1, 3, 7, 5, 9]\n"
     ]
    },
    {
     "data": {
      "text/plain": [
       "13579"
      ]
     },
     "execution_count": 16,
     "metadata": {},
     "output_type": "execute_result"
    }
   ],
   "source": [
    "#组合使用\n",
    "from functools import reduce\n",
    "\n",
    "def fn(x, y):\n",
    "     return x * 10 + y\n",
    "\n",
    "def char2num(s):\n",
    "    digits = {'0': 0, '1': 1, '2': 2, '3': 3, '4': 4, '5': 5, '6': 6, '7': 7, '8': 8, '9': 9}\n",
    "    return digits[s]\n",
    "\n",
    "#map将char2num应用在字符串的每一个上\n",
    "print(list(map(char2num,'13759')))\n",
    "\n",
    "#对于每个数值，用fn函数实现运算\n",
    "reduce(fn, map(char2num, '13579'))"
   ]
  },
  {
   "cell_type": "markdown",
   "id": "1c5f130b",
   "metadata": {},
   "source": [
    "## Filter 过滤函数\n",
    "接收一个函数、一个序列，根据返回值的T/F，决定是否保留或丢弃该元素"
   ]
  },
  {
   "cell_type": "code",
   "execution_count": 17,
   "id": "c513ed5c",
   "metadata": {},
   "outputs": [
    {
     "data": {
      "text/plain": [
       "[1, 3, 5]"
      ]
     },
     "execution_count": 17,
     "metadata": {},
     "output_type": "execute_result"
    }
   ],
   "source": [
    "#判断奇数函数\n",
    "def is_odd(n):\n",
    "    return n%2==1\n",
    "\n",
    "list(filter(is_odd,[1,2,3,4,5]))"
   ]
  },
  {
   "cell_type": "code",
   "execution_count": 1,
   "id": "6037a794",
   "metadata": {},
   "outputs": [
    {
     "data": {
      "text/plain": [
       "['A', 'B', 'C']"
      ]
     },
     "execution_count": 1,
     "metadata": {},
     "output_type": "execute_result"
    }
   ],
   "source": [
    "#返回去除空白的字符串\n",
    "def not_empty(s):\n",
    "    return s and s.strip()  #and为逻辑运算符，实现当S为空时返回s，而非空时返回s.strip()的效果\n",
    "\n",
    "list(filter(not_empty, ['A', '', 'B', None, 'C', '  ']))"
   ]
  },
  {
   "cell_type": "markdown",
   "id": "405a074a",
   "metadata": {},
   "source": [
    "## 筛选素数"
   ]
  },
  {
   "cell_type": "code",
   "execution_count": null,
   "id": "77b27119",
   "metadata": {},
   "outputs": [],
   "source": [
    "#奇数序列构造\n",
    "def _odd_iter():\n",
    "    n=1\n",
    "    while True:\n",
    "        n+=2\n",
    "        yield n\n",
    "\n",
    "#筛选函数\n",
    "# lambda是匿名函数定义关键词，可快速定义简单的单行函数\n",
    "# lambda x :x**2   函数返回x的平方\n",
    "def _not_disvisible(n):\n",
    "    return lambda x:x%n>0   #返回匿名函数，x%n>0时为true，其他情况为false\n",
    "\n",
    "#素数生成器：第一次2，第二次n=3，生成3，然后it筛去3的倍数，第三次5......\n",
    "def primes():\n",
    "    yield 2 #初始迭代为2\n",
    "    it=_odd_iter() #奇数序列生成器\n",
    "    \n",
    "    while True:\n",
    "        n=next(it) #生成一个奇数\n",
    "        yield n \n",
    "        it=filter(_not_disvisible(n),it) #筛去奇数的倍数"
   ]
  },
  {
   "cell_type": "code",
   "execution_count": null,
   "id": "ec47e54c",
   "metadata": {},
   "outputs": [
    {
     "name": "stdout",
     "output_type": "stream",
     "text": [
      "2\n",
      "3\n",
      "5\n",
      "7\n",
      "11\n",
      "13\n",
      "17\n",
      "19\n",
      "23\n",
      "29\n",
      "31\n",
      "37\n",
      "41\n",
      "43\n",
      "47\n",
      "53\n",
      "59\n",
      "61\n",
      "67\n",
      "71\n",
      "73\n",
      "79\n",
      "83\n",
      "89\n",
      "97\n"
     ]
    }
   ],
   "source": [
    "for n in primes():\n",
    "    if n<100:\n",
    "        print(n)\n",
    "    else:\n",
    "        break"
   ]
  },
  {
   "cell_type": "markdown",
   "id": "78febfd0",
   "metadata": {},
   "source": [
    "## Sorted\n",
    "排序算法"
   ]
  },
  {
   "cell_type": "code",
   "execution_count": null,
   "id": "afcabb86",
   "metadata": {},
   "outputs": [
    {
     "name": "stdout",
     "output_type": "stream",
     "text": [
      "[-21, -12, 5, 9, 36]\n",
      "[5, 9, -12, -21, 36]\n",
      "['Credit', 'Zoo', 'about', 'bob']\n",
      "['about', 'bob', 'Credit', 'Zoo']\n",
      "['Zoo', 'Credit', 'bob', 'about']\n"
     ]
    }
   ],
   "source": [
    "#简单排序,数字默认按大小,字符串默认ASCII\n",
    "L=[36,5,-12,9,-21]\n",
    "print(sorted(L))\n",
    "\n",
    "#指定排序方式\n",
    "print(sorted(L,key=abs))\n",
    "\n",
    "#字符串排序\n",
    "print(sorted(['bob', 'about', 'Zoo', 'Credit']))\n",
    "#忽略大小写的字符串排序\n",
    "print(sorted(['bob', 'about', 'Zoo', 'Credit'],key=str.lower))\n",
    "#反向排序快捷实现\n",
    "print(\n",
    "    sorted(['bob', 'about', 'Zoo', 'Credit'],key=str.lower,reverse=True)\n",
    ")\n"
   ]
  },
  {
   "cell_type": "markdown",
   "id": "02350ae0",
   "metadata": {},
   "source": [
    "# 返回函数\n",
    "在函数定义中，可以实现返回结果为函数的情况"
   ]
  },
  {
   "cell_type": "code",
   "execution_count": null,
   "id": "eaa08634",
   "metadata": {},
   "outputs": [
    {
     "data": {
      "text/plain": [
       "<function __main__.lazy_cal.<locals>.sum()>"
      ]
     },
     "execution_count": 10,
     "metadata": {},
     "output_type": "execute_result"
    }
   ],
   "source": [
    "#普通累加函数\n",
    "def cal(*args):\n",
    "    a=0\n",
    "    for n in args:\n",
    "        a+=n\n",
    "    return a\n",
    "\n",
    "#返回求和函数的函数\n",
    "def lazy_cal(*args):\n",
    "    def sum():\n",
    "        a=0\n",
    "        for n in args:\n",
    "            a+=n\n",
    "        return a\n",
    "    \n",
    "    return sum\n",
    "\n",
    "f=lazy_cal(1,2,3,4,5)"
   ]
  },
  {
   "cell_type": "code",
   "execution_count": 12,
   "id": "56b60ecd",
   "metadata": {},
   "outputs": [
    {
     "data": {
      "text/plain": [
       "<function __main__.lazy_cal.<locals>.sum()>"
      ]
     },
     "execution_count": 12,
     "metadata": {},
     "output_type": "execute_result"
    }
   ],
   "source": [
    "f   #调用lazy_cal()时，返回的是函数"
   ]
  },
  {
   "cell_type": "code",
   "execution_count": 13,
   "id": "08cb6629",
   "metadata": {},
   "outputs": [
    {
     "data": {
      "text/plain": [
       "15"
      ]
     },
     "execution_count": 13,
     "metadata": {},
     "output_type": "execute_result"
    }
   ],
   "source": [
    "f() #调用f()时返回是结果"
   ]
  },
  {
   "cell_type": "markdown",
   "id": "e7499c65",
   "metadata": {},
   "source": [
    "## 闭包"
   ]
  },
  {
   "cell_type": "code",
   "execution_count": null,
   "id": "bf16e35a",
   "metadata": {},
   "outputs": [],
   "source": [
    "def lazy_cal(*args):\n",
    "    def sum():\n",
    "        a=0\n",
    "        for n in args:\n",
    "            a+=n\n",
    "        return a\n",
    "    \n",
    "    return sum\n",
    "#l_c中定义了sum,sum因而可以引用外部函数l_c中的参数、局部变量\n",
    "#l_c返回函数时sum时，相关参数和变量都保存在返回的函数中，这种即为闭包"
   ]
  },
  {
   "cell_type": "code",
   "execution_count": null,
   "id": "989992c7",
   "metadata": {},
   "outputs": [
    {
     "name": "stdout",
     "output_type": "stream",
     "text": [
      "9\n",
      "9\n",
      "9\n"
     ]
    }
   ],
   "source": [
    "#体现闭包特点的例子:闭包保存的不是实时的值，而是动态的对于变量的引用，因而到最后会改变值；故尽量不要使用循环变量\n",
    "def count():\n",
    "    fs = []\n",
    "    for i in range(1, 4):\n",
    "        def f():\n",
    "            return i*i  #所有f函数引用了外部的i\n",
    "        fs.append(f)\n",
    "    \n",
    "    #返回fs时候，i已经迭代到3，此时所有闭包共享外部函数count的局部变量i=3\n",
    "    return fs\n",
    "\n",
    "f1, f2, f3 = count() #这里将三个返回值分别赋给f1,f2,f3;因此每个只有一个返回值\n",
    "\n",
    "#造成结果均为9的原因：fs在循环外，而返回fs，因而最后实现时，i都已经迭代到3\n",
    "print(f1())\n",
    "print(f2())\n",
    "print(f3())\n"
   ]
  },
  {
   "cell_type": "code",
   "execution_count": 19,
   "id": "bf9c9c7b",
   "metadata": {},
   "outputs": [
    {
     "data": {
      "text/plain": [
       "9"
      ]
     },
     "execution_count": 19,
     "metadata": {},
     "output_type": "execute_result"
    }
   ],
   "source": [
    "f1()"
   ]
  },
  {
   "cell_type": "code",
   "execution_count": 21,
   "id": "4a93c3c1",
   "metadata": {},
   "outputs": [
    {
     "data": {
      "text/plain": [
       "[<function __main__.count.<locals>.f()>,\n",
       " <function __main__.count.<locals>.f()>,\n",
       " <function __main__.count.<locals>.f()>]"
      ]
     },
     "execution_count": 21,
     "metadata": {},
     "output_type": "execute_result"
    }
   ],
   "source": [
    "#每次返回三个\n",
    "count()"
   ]
  },
  {
   "cell_type": "code",
   "execution_count": null,
   "id": "ff29ccc9",
   "metadata": {},
   "outputs": [],
   "source": [
    "# 一定要使用循环变量时的解决方法\n",
    "def count():\n",
    "    \n",
    "    #再使用一个函数包装，让其参数绑定当前的值\n",
    "    def f(j):\n",
    "        def g():\n",
    "            return j*j  #绑定的是f()的局部变量j\n",
    "        \n",
    "        return g\n",
    "    \n",
    "    fs=[]\n",
    "    for i in range(1,4):\n",
    "        fs.append(f(i))\n",
    "    \n",
    "    return fs"
   ]
  },
  {
   "cell_type": "markdown",
   "id": "e1d12d35",
   "metadata": {},
   "source": [
    "## nonlocal\n",
    "赋值外层变量时必须的声明"
   ]
  },
  {
   "cell_type": "code",
   "execution_count": 22,
   "id": "56b194ec",
   "metadata": {},
   "outputs": [
    {
     "data": {
      "text/plain": [
       "1"
      ]
     },
     "execution_count": 22,
     "metadata": {},
     "output_type": "execute_result"
    }
   ],
   "source": [
    "#读外层变量是不会报错的\n",
    "def inc():\n",
    "    x=0\n",
    "    def fn():\n",
    "        return x+1\n",
    "    return fn\n",
    "\n",
    "f=inc()\n",
    "f()"
   ]
  },
  {
   "cell_type": "code",
   "execution_count": 23,
   "id": "ed36ce56",
   "metadata": {},
   "outputs": [
    {
     "ename": "UnboundLocalError",
     "evalue": "cannot access local variable 'x' where it is not associated with a value",
     "output_type": "error",
     "traceback": [
      "\u001b[1;31m---------------------------------------------------------------------------\u001b[0m",
      "\u001b[1;31mUnboundLocalError\u001b[0m                         Traceback (most recent call last)",
      "Cell \u001b[1;32mIn[23], line 11\u001b[0m\n\u001b[0;32m      8\u001b[0m     \u001b[38;5;28;01mreturn\u001b[39;00m fn\n\u001b[0;32m     10\u001b[0m f \u001b[38;5;241m=\u001b[39m inc()\n\u001b[1;32m---> 11\u001b[0m \u001b[38;5;28mprint\u001b[39m(f()) \u001b[38;5;66;03m# 1\u001b[39;00m\n\u001b[0;32m     12\u001b[0m \u001b[38;5;28mprint\u001b[39m(f())\n",
      "Cell \u001b[1;32mIn[23], line 6\u001b[0m, in \u001b[0;36minc.<locals>.fn\u001b[1;34m()\u001b[0m\n\u001b[0;32m      4\u001b[0m \u001b[38;5;28;01mdef\u001b[39;00m \u001b[38;5;21mfn\u001b[39m():\n\u001b[0;32m      5\u001b[0m     \u001b[38;5;66;03m# nonlocal x\u001b[39;00m\n\u001b[1;32m----> 6\u001b[0m     x \u001b[38;5;241m=\u001b[39m x \u001b[38;5;241m+\u001b[39m \u001b[38;5;241m1\u001b[39m\n\u001b[0;32m      7\u001b[0m     \u001b[38;5;28;01mreturn\u001b[39;00m x\n",
      "\u001b[1;31mUnboundLocalError\u001b[0m: cannot access local variable 'x' where it is not associated with a value"
     ]
    }
   ],
   "source": [
    "#但不加声明对外层变量操作会报错\n",
    "def inc():\n",
    "    x = 0\n",
    "    def fn():\n",
    "        # nonlocal x\n",
    "        x = x + 1\n",
    "        return x\n",
    "    return fn\n",
    "\n",
    "f = inc()\n",
    "print(f()) # 1\n",
    "print(f()) # 2\n"
   ]
  },
  {
   "cell_type": "code",
   "execution_count": 24,
   "id": "5eb92688",
   "metadata": {},
   "outputs": [
    {
     "name": "stdout",
     "output_type": "stream",
     "text": [
      "1\n",
      "2\n"
     ]
    }
   ],
   "source": [
    "#因此要加上声明\n",
    "def inc():\n",
    "    x = 0\n",
    "    def fn():\n",
    "        nonlocal x\n",
    "        x = x + 1\n",
    "        return x\n",
    "    return fn\n",
    "\n",
    "f = inc()\n",
    "print(f()) # 1\n",
    "print(f()) # 2\n"
   ]
  },
  {
   "cell_type": "markdown",
   "id": "c4f7ad7d",
   "metadata": {},
   "source": [
    "# 匿名函数"
   ]
  },
  {
   "cell_type": "code",
   "execution_count": 25,
   "id": "b490e0db",
   "metadata": {},
   "outputs": [
    {
     "data": {
      "text/plain": [
       "<function __main__.build.<locals>.<lambda>()>"
      ]
     },
     "execution_count": 25,
     "metadata": {},
     "output_type": "execute_result"
    }
   ],
   "source": [
    "def build(x, y):\n",
    "    return lambda: x * x + y * y\n",
    "\n",
    "build(1,2)"
   ]
  },
  {
   "cell_type": "code",
   "execution_count": 26,
   "id": "0198e12b",
   "metadata": {},
   "outputs": [
    {
     "data": {
      "text/plain": [
       "5"
      ]
     },
     "execution_count": 26,
     "metadata": {},
     "output_type": "execute_result"
    }
   ],
   "source": [
    "f=build(1,2)\n",
    "f()"
   ]
  },
  {
   "cell_type": "markdown",
   "id": "5e23bc85",
   "metadata": {},
   "source": [
    "# 装饰器\n",
    "作用在于不用改写函数本身，即可实现对函数的功能增强"
   ]
  },
  {
   "cell_type": "code",
   "execution_count": 29,
   "id": "ab763d19",
   "metadata": {},
   "outputs": [
    {
     "name": "stdout",
     "output_type": "stream",
     "text": [
      "111\n"
     ]
    }
   ],
   "source": [
    "#函数是对象，而且函数对象可以被赋值给变量，因而可以通过变量调用函数\n",
    "def now():\n",
    "    print(111)\n",
    "\n",
    "f=now\n",
    "f()"
   ]
  },
  {
   "cell_type": "code",
   "execution_count": 28,
   "id": "212c70e1",
   "metadata": {},
   "outputs": [
    {
     "name": "stdout",
     "output_type": "stream",
     "text": [
      "now\n",
      "now\n"
     ]
    }
   ],
   "source": [
    "#函数对象具有一个__name__属性，可以得到其的名字\n",
    "print(now.__name__)\n",
    "\n",
    "print(f.__name__)"
   ]
  },
  {
   "cell_type": "markdown",
   "id": "5cf968ac",
   "metadata": {},
   "source": [
    "## 标准格式\n",
    "```python\n",
    "@decorator_name\n",
    "def original_function()\n",
    "    #code\n",
    "\n",
    "#等价于\n",
    "def original_function()\n",
    "    #code\n",
    "\n",
    "original_function=decrator_name(original_function)"
   ]
  },
  {
   "cell_type": "code",
   "execution_count": 32,
   "id": "f99505dc",
   "metadata": {},
   "outputs": [
    {
     "name": "stdout",
     "output_type": "stream",
     "text": [
      "<function my_decorator.<locals>.wrapper at 0x0000023AE1285BC0>\n",
      "功能增强：函数执行前操作\n",
      "Hello World\n",
      "功能增强：函数执行后操作\n"
     ]
    }
   ],
   "source": [
    "#简单装饰器\n",
    "def my_decorator(func):\n",
    "    def wrapper():\n",
    "        print(\"功能增强：函数执行前操作\")\n",
    "        func()\n",
    "        print(\"功能增强：函数执行后操作\")\n",
    "    return wrapper\n",
    "\n",
    "@my_decorator\n",
    "def say_hello():\n",
    "    print(\"Hello World\")    #其实是让同名变量指向了一个新的函数，本质上还是有改变，但是原来的函数保留了\n",
    "\n",
    "print(say_hello)\n",
    "say_hello()"
   ]
  },
  {
   "cell_type": "markdown",
   "id": "8b26dd4e",
   "metadata": {},
   "source": [
    "# 偏函数"
   ]
  },
  {
   "cell_type": "code",
   "execution_count": null,
   "id": "10a648b7",
   "metadata": {},
   "outputs": [
    {
     "name": "stdout",
     "output_type": "stream",
     "text": [
      "12345\n",
      "72\n",
      "13\n",
      "10\n"
     ]
    }
   ],
   "source": [
    "#int函数可以实现任意进制的转换为十进制整数\n",
    "print(int('12345',base=10))\n",
    "print(int('110',base=8))\n",
    "print(int('D',16))\n",
    "print(int('1010',base=2))"
   ]
  },
  {
   "cell_type": "code",
   "execution_count": 50,
   "id": "4667332d",
   "metadata": {},
   "outputs": [
    {
     "name": "stdout",
     "output_type": "stream",
     "text": [
      "64\n",
      "64\n"
     ]
    }
   ],
   "source": [
    "#如果有大批量转化二进制的场景，希望固定base参数，可通过偏函数实现\n",
    "\n",
    "#传统解决方式\n",
    "def int2(x,base=2):\n",
    "    return int(x,base)\n",
    "\n",
    "#偏函数解决方式\n",
    "import functools\n",
    "int3=functools.partial(int,base=2)\n",
    "\n",
    "print(int2('1000000'))\n",
    "print(int3('1000000'))"
   ]
  },
  {
   "cell_type": "code",
   "execution_count": 52,
   "id": "4b23a796",
   "metadata": {},
   "outputs": [
    {
     "name": "stdout",
     "output_type": "stream",
     "text": [
      "512\n"
     ]
    }
   ],
   "source": [
    "#偏函数定义后依旧能传入其他值，仅是修改默认参数值\n",
    "print(int2('1000',8))"
   ]
  }
 ],
 "metadata": {
  "kernelspec": {
   "display_name": "base",
   "language": "python",
   "name": "python3"
  },
  "language_info": {
   "codemirror_mode": {
    "name": "ipython",
    "version": 3
   },
   "file_extension": ".py",
   "mimetype": "text/x-python",
   "name": "python",
   "nbconvert_exporter": "python",
   "pygments_lexer": "ipython3",
   "version": "3.12.7"
  }
 },
 "nbformat": 4,
 "nbformat_minor": 5
}
