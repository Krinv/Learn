{
 "cells": [
  {
   "cell_type": "markdown",
   "id": "7f9a4677",
   "metadata": {},
   "source": [
    "# datetime"
   ]
  },
  {
   "cell_type": "code",
   "execution_count": 1,
   "id": "797d07d3",
   "metadata": {},
   "outputs": [
    {
     "name": "stdout",
     "output_type": "stream",
     "text": [
      "2025-08-01 10:50:11.813564\n",
      "<class 'datetime.datetime'>\n"
     ]
    }
   ],
   "source": [
    "from datetime import datetime   #从模块中导入类\n",
    "now=datetime.now()\n",
    "\n",
    "print(now)\n",
    "print(type(now))"
   ]
  },
  {
   "cell_type": "code",
   "execution_count": 2,
   "id": "f780c17d",
   "metadata": {},
   "outputs": [
    {
     "name": "stdout",
     "output_type": "stream",
     "text": [
      "2025-08-01 12:20:00\n"
     ]
    }
   ],
   "source": [
    "#获取指定日期和时间\n",
    "dt=datetime(2025,8,1,12,20)\n",
    "print(dt)"
   ]
  },
  {
   "cell_type": "markdown",
   "id": "a8abf29a",
   "metadata": {},
   "source": [
    "## Timestamp\n",
    "时间戳是从一个固定起点开始到特定时间的数字或字符串，因而更具固定性"
   ]
  },
  {
   "cell_type": "code",
   "execution_count": 3,
   "id": "670454a2",
   "metadata": {},
   "outputs": [
    {
     "data": {
      "text/plain": [
       "1754022000.0"
      ]
     },
     "execution_count": 3,
     "metadata": {},
     "output_type": "execute_result"
    }
   ],
   "source": [
    "# 实现datetime和timestamp的类型转化\n",
    "dt=datetime(2025,8,1,12,20)\n",
    "dt.timestamp()"
   ]
  },
  {
   "cell_type": "code",
   "execution_count": null,
   "id": "24105b06",
   "metadata": {},
   "outputs": [
    {
     "name": "stdout",
     "output_type": "stream",
     "text": [
      "2015-04-19 12:20:00\n"
     ]
    }
   ],
   "source": [
    "t=1429417200.0\n",
    "print(datetime.fromtimestamp(t))    #根据系统设置的时区变化"
   ]
  },
  {
   "cell_type": "markdown",
   "id": "de6cbaad",
   "metadata": {},
   "source": [
    "## str"
   ]
  },
  {
   "cell_type": "code",
   "execution_count": null,
   "id": "d7bede4d",
   "metadata": {},
   "outputs": [
    {
     "name": "stdout",
     "output_type": "stream",
     "text": [
      "2015-06-01 18:19:59\n"
     ]
    }
   ],
   "source": [
    "#str转datetime\n",
    "cday = datetime.strptime('2015-6-1 18:19:59', '%Y-%m-%d %H:%M:%S')\n",
    "print(cday)"
   ]
  },
  {
   "cell_type": "code",
   "execution_count": null,
   "id": "e542412c",
   "metadata": {},
   "outputs": [
    {
     "name": "stdout",
     "output_type": "stream",
     "text": [
      "Fri,Aug,01,11:26\n"
     ]
    }
   ],
   "source": [
    "#datetime转str\n",
    "now = datetime.now()\n",
    "#星期缩写、月份缩写、日、小时、分钟\n",
    "print(now.strftime('%a,%b,%d,%H:%M'))"
   ]
  },
  {
   "cell_type": "markdown",
   "id": "8362d3f4",
   "metadata": {},
   "source": [
    "## datetime加减"
   ]
  },
  {
   "cell_type": "code",
   "execution_count": 9,
   "id": "2f07857e",
   "metadata": {},
   "outputs": [
    {
     "name": "stdout",
     "output_type": "stream",
     "text": [
      "2025-08-01 11:30:36.784623\n",
      "2025-08-01 21:30:36.784623\n"
     ]
    }
   ],
   "source": [
    "from datetime import datetime,timedelta\n",
    "\n",
    "now=datetime.now()\n",
    "print(now)\n",
    "print(now+timedelta(hours=10))"
   ]
  },
  {
   "cell_type": "markdown",
   "id": "b463c381",
   "metadata": {},
   "source": [
    "## 转化为UTC时间\n"
   ]
  },
  {
   "cell_type": "code",
   "execution_count": 11,
   "id": "8fb736a0",
   "metadata": {},
   "outputs": [
    {
     "name": "stdout",
     "output_type": "stream",
     "text": [
      "2025-08-01 11:32:37.552335\n",
      "2025-08-01 11:32:37.552335+08:00\n"
     ]
    }
   ],
   "source": [
    "from datetime import timezone\n",
    "#创建东八区时区\n",
    "tz_utc_8=timezone(timedelta(hours=8))\n",
    "\n",
    "now=datetime.now()\n",
    "print(now)\n",
    "\n",
    "dt=now.replace(tzinfo=tz_utc_8)\n",
    "print(dt)"
   ]
  },
  {
   "cell_type": "markdown",
   "id": "588c332e",
   "metadata": {},
   "source": [
    "## 时区转换"
   ]
  },
  {
   "cell_type": "code",
   "execution_count": 12,
   "id": "89a426c0",
   "metadata": {},
   "outputs": [
    {
     "name": "stdout",
     "output_type": "stream",
     "text": [
      "2025-08-01 03:34:08.753460+00:00\n"
     ]
    },
    {
     "name": "stderr",
     "output_type": "stream",
     "text": [
      "C:\\Users\\Krinv\\AppData\\Local\\Temp\\ipykernel_18684\\3672953840.py:1: DeprecationWarning: datetime.datetime.utcnow() is deprecated and scheduled for removal in a future version. Use timezone-aware objects to represent datetimes in UTC: datetime.datetime.now(datetime.UTC).\n",
      "  utc_dt=datetime.utcnow().replace(tzinfo=timezone.utc)\n"
     ]
    }
   ],
   "source": [
    "utc_dt=datetime.utcnow().replace(tzinfo=timezone.utc)\n",
    "print(utc_dt)"
   ]
  },
  {
   "cell_type": "code",
   "execution_count": 13,
   "id": "75190c31",
   "metadata": {},
   "outputs": [
    {
     "name": "stdout",
     "output_type": "stream",
     "text": [
      "2025-08-01 11:34:08.753460+08:00\n"
     ]
    }
   ],
   "source": [
    "#转换时区为北京时间\n",
    "bj_dt=utc_dt.astimezone(timezone(timedelta(hours=8)))\n",
    "print(bj_dt)"
   ]
  },
  {
   "cell_type": "markdown",
   "id": "07c9fda0",
   "metadata": {},
   "source": [
    "# collections"
   ]
  },
  {
   "cell_type": "markdown",
   "id": "8cdf0283",
   "metadata": {},
   "source": [
    "## namedtuple\n",
    "创建自定义tuple对象"
   ]
  },
  {
   "cell_type": "code",
   "execution_count": null,
   "id": "1059ecbd",
   "metadata": {},
   "outputs": [
    {
     "name": "stdout",
     "output_type": "stream",
     "text": [
      "1 2\n",
      "True\n"
     ]
    }
   ],
   "source": [
    "#创建一个表示坐标的tuple，但是默认的tuple又不太容易看明白含义的情况下\n",
    "from collections import namedtuple\n",
    "Point = namedtuple('Point',['x','y'])\n",
    "\n",
    "#更清楚地了解含义\n",
    "p=Point(1,2)\n",
    "print(p.x,p.y)\n",
    "\n",
    "#是子类\n",
    "print(isinstance(p,Point))"
   ]
  },
  {
   "cell_type": "markdown",
   "id": "0018976a",
   "metadata": {},
   "source": [
    "## deque\n",
    "list存储时，按索引访问快，但插入和删除元素慢，通过deque实现高效插入和删除的双向列表"
   ]
  },
  {
   "cell_type": "code",
   "execution_count": 18,
   "id": "8752d1ac",
   "metadata": {},
   "outputs": [
    {
     "data": {
      "text/plain": [
       "deque(['y', 'a', 'b', 'c', 'x'])"
      ]
     },
     "execution_count": 18,
     "metadata": {},
     "output_type": "execute_result"
    }
   ],
   "source": [
    "from collections import deque\n",
    "q=deque(['a','b','c'])\n",
    "\n",
    "q.append('x')\n",
    "q.appendleft('y')\n",
    "\n",
    "#实现更容易的双头插入\n",
    "q"
   ]
  },
  {
   "cell_type": "markdown",
   "id": "d993cbd5",
   "metadata": {},
   "source": [
    "## defaultdict\n",
    "使用dict时，在key不存在时会导致错误，如果要实现key不存在时返回默认值，使用defaultdict"
   ]
  },
  {
   "cell_type": "code",
   "execution_count": 20,
   "id": "6e1b2e17",
   "metadata": {},
   "outputs": [
    {
     "name": "stdout",
     "output_type": "stream",
     "text": [
      "abc\n",
      "N/A\n"
     ]
    }
   ],
   "source": [
    "from collections import defaultdict\n",
    "dd=defaultdict(lambda:'N/A')    #返回默认值\n",
    "\n",
    "dd['key1']='abc'\n",
    "print(dd['key1'])\n",
    "\n",
    "print(dd['key2'])"
   ]
  },
  {
   "cell_type": "markdown",
   "id": "990a07bf",
   "metadata": {},
   "source": [
    "## OrderedDict\n",
    "dict的key是无序的，迭代时无法确定顺序"
   ]
  },
  {
   "cell_type": "code",
   "execution_count": 21,
   "id": "fd86835e",
   "metadata": {},
   "outputs": [
    {
     "name": "stdout",
     "output_type": "stream",
     "text": [
      "{'a': 1, 'b': 2, 'c': 3}\n",
      "OrderedDict({'a': 1, 'b': 2, 'c': 3})\n"
     ]
    }
   ],
   "source": [
    "from collections import OrderedDict\n",
    "d = dict([('a', 1), ('b', 2), ('c', 3)])\n",
    "print(d)\n",
    "\n",
    "od=OrderedDict([('a', 1), ('b', 2), ('c', 3)])\n",
    "print(od)"
   ]
  },
  {
   "cell_type": "code",
   "execution_count": null,
   "id": "3d756ea9",
   "metadata": {},
   "outputs": [],
   "source": [
    "#实现FIFO先进先出的dict\n",
    "from collections import OrderedDict\n",
    "\n",
    "class lastUpdatedOrderDict(OrderedDict):\n",
    "\n",
    "    def __init__(self,capacity):\n",
    "        super(lastUpdatedOrderDict,self).__init__()\n",
    "        self._capacity=capacity\n",
    "\n",
    "    def __setitem__(self, key, value):\n",
    "        containsKey=1 if key in self else 0     #判断是否存在此key\n",
    "\n",
    "        #如果已满，且添加的是新的，减0导致此条件成立\n",
    "        if len(self)-containsKey>=self._capacity:\n",
    "            last=self.popitem(last=False)\n",
    "            print('remove:',last)\n",
    "        \n",
    "        if containsKey:\n",
    "            del self[key]   #可能会更新值，也需重新插入\n",
    "            print('set:',(key,value))\n",
    "        else:\n",
    "            print('add:',(key,value))\n",
    "\n",
    "        OrderedDict.__setitem__(self,key,value)\n"
   ]
  },
  {
   "cell_type": "markdown",
   "id": "645d3e8b",
   "metadata": {},
   "source": [
    "## ChainMap\n",
    "将一组dict串起来组成一个逻辑上的dict，本身也是一个dict，不过查找时会按顺序依次查"
   ]
  },
  {
   "cell_type": "code",
   "execution_count": null,
   "id": "6e72e692",
   "metadata": {},
   "outputs": [
    {
     "name": "stdout",
     "output_type": "stream",
     "text": [
      "color=red\n",
      "user=guest\n"
     ]
    }
   ],
   "source": [
    "from collections import ChainMap\n",
    "import os,argparse  #系统环境和命令行参数解析模块\n",
    "\n",
    "#缺省参数\n",
    "defaults={\n",
    "    'color':'red',\n",
    "    'user':'guest'\n",
    "}\n",
    "\n",
    "#构造命令行参数\n",
    "parser=argparse.ArgumentParser()\n",
    "parser.add_argument('-u','--user')\n",
    "parser.add_argument('-c','--color')\n",
    "\n",
    "#解析命令行参数\n",
    "namespace, _ = parser.parse_known_args()\n",
    "\n",
    "#从命令空间提取非空参数形成字典\n",
    "command_line_args={k:v for k,v in vars(namespace).items() if v}\n",
    "\n",
    "#组成ChainMap\n",
    "combined=ChainMap(command_line_args,os.environ,defaults)\n",
    "\n",
    "print('color=%s' %combined['color'])\n",
    "print('user=%s' % combined['user'])"
   ]
  },
  {
   "cell_type": "markdown",
   "id": "bebd45a9",
   "metadata": {},
   "source": [
    "## Counter\n",
    "简单计数器"
   ]
  },
  {
   "cell_type": "code",
   "execution_count": 35,
   "id": "8eb83b42",
   "metadata": {},
   "outputs": [
    {
     "data": {
      "text/plain": [
       "Counter({'r': 2, 'g': 2, 'm': 2, 'p': 1, 'o': 1, 'a': 1, 'i': 1, 'n': 1})"
      ]
     },
     "execution_count": 35,
     "metadata": {},
     "output_type": "execute_result"
    }
   ],
   "source": [
    "from collections import Counter\n",
    "c=Counter('programming')\n",
    "\n",
    "c"
   ]
  },
  {
   "cell_type": "markdown",
   "id": "56d5d149",
   "metadata": {},
   "source": [
    "# base64\n",
    "用64个字符来表示任意二进制数据的方法"
   ]
  },
  {
   "cell_type": "code",
   "execution_count": 40,
   "id": "d977f59f",
   "metadata": {},
   "outputs": [
    {
     "data": {
      "text/plain": [
       "b'n)\\xda\\xaf+-\\xae)\\xe0'"
      ]
     },
     "execution_count": 40,
     "metadata": {},
     "output_type": "execute_result"
    }
   ],
   "source": [
    "import base64\n",
    "base64.b64decode(b'binary\\x00string')"
   ]
  },
  {
   "cell_type": "markdown",
   "id": "cdaa568e",
   "metadata": {},
   "source": [
    "# struct\n",
    "解决bytes和其他二进制数据类型的转换问题"
   ]
  },
  {
   "cell_type": "code",
   "execution_count": null,
   "id": "6c08f7a3",
   "metadata": {},
   "outputs": [
    {
     "data": {
      "text/plain": [
       "b'\\x00\\x9c@c'"
      ]
     },
     "execution_count": 2,
     "metadata": {},
     "output_type": "execute_result"
    }
   ],
   "source": [
    "#把任意数据变成bytes\n",
    "import struct\n",
    "#第一个参数为处理指令，>表big-endian大端字节顺序，I表4字节无符号整数\n",
    "struct.pack('>I',10240099)"
   ]
  },
  {
   "cell_type": "code",
   "execution_count": 4,
   "id": "cf0861b3",
   "metadata": {},
   "outputs": [
    {
     "data": {
      "text/plain": [
       "(4042322160, 32896)"
      ]
     },
     "execution_count": 4,
     "metadata": {},
     "output_type": "execute_result"
    }
   ],
   "source": [
    "#把bytes变成相应类型\n",
    "#H 2字节无符号整数\n",
    "struct.unpack('>IH',b'\\xf0\\xf0\\xf0\\xf0\\x80\\x80')"
   ]
  },
  {
   "cell_type": "markdown",
   "id": "b6680413",
   "metadata": {},
   "source": [
    "# hashib\n",
    "提供常见哈希算法"
   ]
  },
  {
   "cell_type": "code",
   "execution_count": 5,
   "id": "3990837d",
   "metadata": {},
   "outputs": [
    {
     "name": "stdout",
     "output_type": "stream",
     "text": [
      "7fcb9cb760463e9a8623aaac99f9dae1\n"
     ]
    }
   ],
   "source": [
    "import hashlib\n",
    "\n",
    "#哈希算法MD5\n",
    "md5=hashlib.md5()\n",
    "\n",
    "md5.update('How to use md5 in python hashlib?'.encode('utf-8'))\n",
    "print(md5.hexdigest())"
   ]
  },
  {
   "cell_type": "code",
   "execution_count": 1,
   "id": "5b311e2e",
   "metadata": {},
   "outputs": [
    {
     "name": "stdout",
     "output_type": "stream",
     "text": [
      "2c76b57293ce30acef38d98f6046927161b46a44\n"
     ]
    }
   ],
   "source": [
    "import hashlib\n",
    "\n",
    "sha1 = hashlib.sha1()\n",
    "sha1.update('how to use sha1 in '.encode('utf-8'))\n",
    "sha1.update('python hashlib?'.encode('utf-8'))\n",
    "print(sha1.hexdigest())"
   ]
  }
 ],
 "metadata": {
  "kernelspec": {
   "display_name": "base",
   "language": "python",
   "name": "python3"
  },
  "language_info": {
   "codemirror_mode": {
    "name": "ipython",
    "version": 3
   },
   "file_extension": ".py",
   "mimetype": "text/x-python",
   "name": "python",
   "nbconvert_exporter": "python",
   "pygments_lexer": "ipython3",
   "version": "3.12.7"
  }
 },
 "nbformat": 4,
 "nbformat_minor": 5
}
