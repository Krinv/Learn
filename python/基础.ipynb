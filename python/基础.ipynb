{
 "cells": [
  {
   "cell_type": "markdown",
   "id": "2b5a1ab2",
   "metadata": {},
   "source": [
    "# 列表与元组\n",
    "---"
   ]
  },
  {
   "cell_type": "markdown",
   "id": "c3ce909b",
   "metadata": {},
   "source": [
    "## list"
   ]
  },
  {
   "cell_type": "code",
   "execution_count": null,
   "id": "aa6c2cc8",
   "metadata": {},
   "outputs": [
    {
     "name": "stdout",
     "output_type": "stream",
     "text": [
      "['a', 'b', 'c']\n",
      "a\n",
      "b\n",
      "c\n"
     ]
    }
   ],
   "source": [
    "#类似数组\n",
    "classmate=['a','b','c']\n",
    "print(classmate)\n",
    "\n",
    "print(classmate[0])\n",
    "print(classmate[1])\n",
    "print(classmate[2])"
   ]
  },
  {
   "cell_type": "code",
   "execution_count": null,
   "id": "6adb6100",
   "metadata": {},
   "outputs": [
    {
     "data": {
      "text/plain": [
       "3"
      ]
     },
     "metadata": {},
     "output_type": "display_data"
    }
   ],
   "source": [
    "#长度函数\n",
    "len(classmate)"
   ]
  },
  {
   "cell_type": "code",
   "execution_count": null,
   "id": "b583c10b",
   "metadata": {},
   "outputs": [
    {
     "name": "stdout",
     "output_type": "stream",
     "text": [
      "c\n"
     ]
    }
   ],
   "source": [
    "#使用负数索引获取后方元素\n",
    "print(classmate[-1])"
   ]
  },
  {
   "cell_type": "code",
   "execution_count": null,
   "id": "6b5f61f3",
   "metadata": {},
   "outputs": [
    {
     "name": "stdout",
     "output_type": "stream",
     "text": [
      "['a', 'b', 'c', 'd']\n"
     ]
    }
   ],
   "source": [
    "#list末尾追加元素\n",
    "classmate.append('d')\n",
    "print(classmate)"
   ]
  },
  {
   "cell_type": "code",
   "execution_count": null,
   "id": "b7b3e899",
   "metadata": {},
   "outputs": [
    {
     "name": "stdout",
     "output_type": "stream",
     "text": [
      "['a', 'b', 'c']\n"
     ]
    }
   ],
   "source": [
    "#弹出末尾元素并删除\n",
    "classmate.pop()\n",
    "print(classmate)"
   ]
  },
  {
   "cell_type": "code",
   "execution_count": null,
   "id": "b6c30ca1",
   "metadata": {},
   "outputs": [
    {
     "name": "stdout",
     "output_type": "stream",
     "text": [
      "['a', 'c']\n"
     ]
    }
   ],
   "source": [
    "#弹出指定元素\n",
    "classmate.pop(1)\n",
    "print(classmate)"
   ]
  },
  {
   "cell_type": "markdown",
   "id": "f97e65ec",
   "metadata": {},
   "source": [
    "### list中允许多种类型元素存在"
   ]
  },
  {
   "cell_type": "code",
   "execution_count": null,
   "id": "c4d5ca5a",
   "metadata": {},
   "outputs": [
    {
     "name": "stdout",
     "output_type": "stream",
     "text": [
      "['666', True, 111, 111, ['1', '2', '3'], 111, ['1', '2', '3'], 111, ['1', '2', '3']]\n"
     ]
    }
   ],
   "source": [
    "classmate[0]='666'\n",
    "classmate[1]=True\n",
    "classmate.append(111)\n",
    "\n",
    "#允许list套入list\n",
    "l=['1','2','3']\n",
    "classmate.append(l)\n",
    "print(classmate)"
   ]
  },
  {
   "cell_type": "markdown",
   "id": "813df1d7",
   "metadata": {},
   "source": [
    "## turple\n",
    "有序元组，一经过初始化便不能修改(安全系数更高)"
   ]
  },
  {
   "cell_type": "code",
   "execution_count": null,
   "id": "96c84679",
   "metadata": {},
   "outputs": [
    {
     "name": "stdout",
     "output_type": "stream",
     "text": [
      "('1', '2', '3')\n"
     ]
    }
   ],
   "source": [
    "mates=('1','2','3')\n",
    "print(mates)"
   ]
  },
  {
   "cell_type": "markdown",
   "id": "cfcf4fc7",
   "metadata": {},
   "source": [
    "# 条件判断\n",
    "---"
   ]
  },
  {
   "cell_type": "markdown",
   "id": "e58d0df6",
   "metadata": {},
   "source": [
    "## input"
   ]
  },
  {
   "cell_type": "code",
   "execution_count": 4,
   "id": "6a2f1656",
   "metadata": {},
   "outputs": [
    {
     "name": "stdout",
     "output_type": "stream",
     "text": [
      "666\n"
     ]
    }
   ],
   "source": [
    "#使用input可在输入时添加提示字符\n",
    "birth=input('birth= ')\n",
    "print(birth)"
   ]
  },
  {
   "cell_type": "code",
   "execution_count": 5,
   "id": "9a2590ef",
   "metadata": {},
   "outputs": [
    {
     "ename": "TypeError",
     "evalue": "'>' not supported between instances of 'str' and 'int'",
     "output_type": "error",
     "traceback": [
      "\u001b[1;31m---------------------------------------------------------------------------\u001b[0m",
      "\u001b[1;31mTypeError\u001b[0m                                 Traceback (most recent call last)",
      "Cell \u001b[1;32mIn[5], line 2\u001b[0m\n\u001b[0;32m      1\u001b[0m \u001b[38;5;66;03m#input输入的默认为字符串\u001b[39;00m\n\u001b[1;32m----> 2\u001b[0m \u001b[38;5;28;01mif\u001b[39;00m(birth\u001b[38;5;241m>\u001b[39m\u001b[38;5;241m100\u001b[39m):\n\u001b[0;32m      3\u001b[0m     \u001b[38;5;28mprint\u001b[39m(\u001b[38;5;241m111\u001b[39m)\n",
      "\u001b[1;31mTypeError\u001b[0m: '>' not supported between instances of 'str' and 'int'"
     ]
    }
   ],
   "source": [
    "#input输入的默认为字符串\n",
    "if(birth>100):\n",
    "    print(111)"
   ]
  },
  {
   "cell_type": "code",
   "execution_count": 6,
   "id": "7affe032",
   "metadata": {},
   "outputs": [
    {
     "name": "stdout",
     "output_type": "stream",
     "text": [
      "111\n"
     ]
    }
   ],
   "source": [
    "#input输入的默认为字符串\n",
    "if(int(birth)>100):\n",
    "    print(111)"
   ]
  },
  {
   "cell_type": "markdown",
   "id": "db5c058d",
   "metadata": {},
   "source": [
    "# 模式匹配\n",
    "---"
   ]
  },
  {
   "cell_type": "markdown",
   "id": "7a36244d",
   "metadata": {},
   "source": [
    "## match"
   ]
  },
  {
   "cell_type": "code",
   "execution_count": 8,
   "id": "6bd9442d",
   "metadata": {},
   "outputs": [
    {
     "name": "stdout",
     "output_type": "stream",
     "text": [
      "s=1\n",
      "111\n"
     ]
    }
   ],
   "source": [
    "#类似Switch的匹配方法\n",
    "s=input()\n",
    "\n",
    "match s:\n",
    "    case '1':\n",
    "        print('s='+s)\n",
    "        print(111)\n",
    "    case '2':\n",
    "        print('s='+s)\n",
    "        print(222)\n",
    "    "
   ]
  },
  {
   "cell_type": "code",
   "execution_count": 21,
   "id": "a8c85203",
   "metadata": {},
   "outputs": [
    {
     "name": "stdout",
     "output_type": "stream",
     "text": [
      "age=15\n",
      "x=15\n",
      "小于20岁\n",
      "\n",
      "age=11\n",
      "x=11\n",
      "小于20岁\n"
     ]
    }
   ],
   "source": [
    "#匹配范围值\n",
    "age=15\n",
    "match age:\n",
    "    case x if x<20:\n",
    "        print(f'age={age}')\n",
    "        print(f'x={x}')\n",
    "        print('小于20岁')\n",
    "    case 13:\n",
    "        print(13)\n",
    "\n",
    "print()\n",
    "age=11\n",
    "match age:\n",
    "    case x if x<20:\n",
    "        print(f'age={age}')\n",
    "        print(f'x={x}')\n",
    "        print('小于20岁')\n",
    "    case 13:\n",
    "        print(13)\n",
    "    #可以使用|连接多个或\n",
    "    case 12|11|10|9:\n",
    "        print(666)\n",
    "    #默认情况\n",
    "    case _:\n",
    "        print('未知')\n"
   ]
  },
  {
   "cell_type": "code",
   "execution_count": 24,
   "id": "3a95a799",
   "metadata": {},
   "outputs": [
    {
     "name": "stdout",
     "output_type": "stream",
     "text": [
      "要素齐全\n"
     ]
    }
   ],
   "source": [
    "#列表匹配\n",
    "args=['a','b','c']\n",
    "#args=['a']\n",
    "\n",
    "match args:\n",
    "    case ['a']:\n",
    "        print('仅有a')\n",
    "    case ['a','b','c']:\n",
    "        print(\"要素齐全\")"
   ]
  },
  {
   "cell_type": "markdown",
   "id": "1decc47d",
   "metadata": {},
   "source": [
    "# 循环\n",
    "---"
   ]
  },
  {
   "cell_type": "code",
   "execution_count": 25,
   "id": "33cd3bf4",
   "metadata": {},
   "outputs": [
    {
     "name": "stdout",
     "output_type": "stream",
     "text": [
      "10\n"
     ]
    }
   ],
   "source": [
    "#标准样式\n",
    "sum=0\n",
    "\n",
    "for i in [1,2,3,4]:\n",
    "    sum+=i;\n",
    "\n",
    "print(sum)"
   ]
  },
  {
   "cell_type": "markdown",
   "id": "f32f56e3",
   "metadata": {},
   "source": [
    "## range()生成整数列\n"
   ]
  },
  {
   "cell_type": "code",
   "execution_count": 28,
   "id": "993c80ea",
   "metadata": {},
   "outputs": [
    {
     "name": "stdout",
     "output_type": "stream",
     "text": [
      "[0, 1, 2, 3, 4]\n"
     ]
    }
   ],
   "source": [
    "#注意从0开始\n",
    "print(list(range(5)))"
   ]
  },
  {
   "cell_type": "markdown",
   "id": "facc7344",
   "metadata": {},
   "source": [
    "# 字典\n",
    "---"
   ]
  },
  {
   "cell_type": "markdown",
   "id": "40b7424e",
   "metadata": {},
   "source": [
    "## dict字典"
   ]
  },
  {
   "cell_type": "code",
   "execution_count": 30,
   "id": "d4c581da",
   "metadata": {},
   "outputs": [
    {
     "name": "stdout",
     "output_type": "stream",
     "text": [
      "95\n"
     ]
    }
   ],
   "source": [
    "#多组list映射直接用字典快速实现\n",
    "dict={\n",
    "    'a':95,\n",
    "    'b':75,\n",
    "    'c':85\n",
    "}\n",
    "\n",
    "print(dict['a'])"
   ]
  },
  {
   "cell_type": "code",
   "execution_count": 31,
   "id": "89a9c786",
   "metadata": {},
   "outputs": [
    {
     "name": "stdout",
     "output_type": "stream",
     "text": [
      "66\n"
     ]
    }
   ],
   "source": [
    "#可以重置key值\n",
    "dict['c']=66\n",
    "print(dict['c'])"
   ]
  },
  {
   "cell_type": "code",
   "execution_count": 37,
   "id": "02dcf4b6",
   "metadata": {},
   "outputs": [
    {
     "name": "stdout",
     "output_type": "stream",
     "text": [
      "True\n",
      "95\n",
      "-1\n"
     ]
    }
   ],
   "source": [
    "#判断key是否存在\n",
    "print('a' in dict)\n",
    "\n",
    "print(dict.get('a'))\n",
    "#可设定不存在时的自定义返回项\n",
    "print(dict.get('f',-1))"
   ]
  },
  {
   "cell_type": "code",
   "execution_count": 38,
   "id": "6818f413",
   "metadata": {},
   "outputs": [
    {
     "name": "stdout",
     "output_type": "stream",
     "text": [
      "{'a': 95, 'b': 75}\n"
     ]
    }
   ],
   "source": [
    "#删除key\n",
    "dict.pop('c')\n",
    "print(dict)"
   ]
  },
  {
   "cell_type": "markdown",
   "id": "9a7836a5",
   "metadata": {},
   "source": [
    "## set\n",
    "仅存储key，不存储value，因为key不能重复的特性使得set中的key没有相同的"
   ]
  },
  {
   "cell_type": "code",
   "execution_count": 40,
   "id": "f797398f",
   "metadata": {},
   "outputs": [
    {
     "name": "stdout",
     "output_type": "stream",
     "text": [
      "{1, 2, 3}\n",
      "{2, 3, 4}\n"
     ]
    }
   ],
   "source": [
    "#基本初始化方式\n",
    "s={1,2,3}\n",
    "print(s)\n",
    "\n",
    "#list入参初始化\n",
    "t=set([2,3,4])\n",
    "print(t)"
   ]
  },
  {
   "cell_type": "code",
   "execution_count": 41,
   "id": "f8245de7",
   "metadata": {},
   "outputs": [
    {
     "name": "stdout",
     "output_type": "stream",
     "text": [
      "{2, 3, 4, 6}\n"
     ]
    }
   ],
   "source": [
    "#添加key\n",
    "t.add(6)\n",
    "print(t)"
   ]
  },
  {
   "cell_type": "code",
   "execution_count": 42,
   "id": "86793bc7",
   "metadata": {},
   "outputs": [
    {
     "name": "stdout",
     "output_type": "stream",
     "text": [
      "{2, 3, 4}\n"
     ]
    }
   ],
   "source": [
    "#删除key\n",
    "t.remove(6)\n",
    "print(t)"
   ]
  },
  {
   "cell_type": "code",
   "execution_count": 44,
   "id": "264aee13",
   "metadata": {},
   "outputs": [
    {
     "name": "stdout",
     "output_type": "stream",
     "text": [
      "{2, 3}\n",
      "{1, 2, 3, 4}\n"
     ]
    }
   ],
   "source": [
    "#交并操作\n",
    "print(s&t)\n",
    "\n",
    "print(s|t)"
   ]
  }
 ],
 "metadata": {
  "kernelspec": {
   "display_name": "base",
   "language": "python",
   "name": "python3"
  },
  "language_info": {
   "codemirror_mode": {
    "name": "ipython",
    "version": 3
   },
   "file_extension": ".py",
   "mimetype": "text/x-python",
   "name": "python",
   "nbconvert_exporter": "python",
   "pygments_lexer": "ipython3",
   "version": "3.12.7"
  }
 },
 "nbformat": 4,
 "nbformat_minor": 5
}
