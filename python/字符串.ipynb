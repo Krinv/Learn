{
 "cells": [
  {
   "cell_type": "markdown",
   "id": "fdef05e1",
   "metadata": {},
   "source": [
    "# 字符串相关内容"
   ]
  },
  {
   "cell_type": "code",
   "execution_count": 1,
   "id": "2057d5c4",
   "metadata": {},
   "outputs": [
    {
     "name": "stdout",
     "output_type": "stream",
     "text": [
      "Hi,Michael,you have $1000.\n"
     ]
    }
   ],
   "source": [
    "#格式化字符串\n",
    "print('Hi,%s,you have $%d.' %('Michael',1000))"
   ]
  },
  {
   "cell_type": "code",
   "execution_count": 3,
   "id": "e9088046",
   "metadata": {},
   "outputs": [
    {
     "name": "stdout",
     "output_type": "stream",
     "text": [
      " 3-01\n",
      "3.14\n"
     ]
    }
   ],
   "source": [
    "#格式化补0整数\n",
    "print('%2d-%02d' %(3,1))\n",
    "\n",
    "#格式化小数位数\n",
    "print('%.2f' %3.1415926)"
   ]
  },
  {
   "cell_type": "code",
   "execution_count": 6,
   "id": "edcb42b0",
   "metadata": {},
   "outputs": [
    {
     "name": "stdout",
     "output_type": "stream",
     "text": [
      "Age:25. Gender:True.\n"
     ]
    }
   ],
   "source": [
    "#格式化字符串\n",
    "print('Age:%s. Gender:%s.' % (25,True))"
   ]
  },
  {
   "cell_type": "code",
   "execution_count": 8,
   "id": "29de5b6b",
   "metadata": {},
   "outputs": [
    {
     "name": "stdout",
     "output_type": "stream",
     "text": [
      "growth rate:7%\n"
     ]
    }
   ],
   "source": [
    "# %符号的转义\n",
    "print('growth rate:%d%%' % 7)"
   ]
  },
  {
   "cell_type": "markdown",
   "id": "d8a96ab5",
   "metadata": {},
   "source": [
    "## format()"
   ]
  },
  {
   "cell_type": "code",
   "execution_count": null,
   "id": "5f709cf2",
   "metadata": {},
   "outputs": [
    {
     "name": "stdout",
     "output_type": "stream",
     "text": [
      "Hello,小明,成绩提升了17.0%\n"
     ]
    }
   ],
   "source": [
    "#{0}指向入参顺序，{1:.1f}实现具体的格式化\n",
    "print('Hello,{0},成绩提升了{1:.1f}%'.format('小明',17))"
   ]
  },
  {
   "cell_type": "markdown",
   "id": "da5801dd",
   "metadata": {},
   "source": [
    "## f-string"
   ]
  },
  {
   "cell_type": "code",
   "execution_count": 12,
   "id": "23dd729a",
   "metadata": {},
   "outputs": [
    {
     "name": "stdout",
     "output_type": "stream",
     "text": [
      "The area of a circle with radius 2.5 is 19.62\n"
     ]
    }
   ],
   "source": [
    "r=2.5\n",
    "s=3.14*r**2\n",
    "\n",
    "#类似于format()，但是更加方便的写入参数方式\n",
    "print(f'The area of a circle with radius {r} is {s:.2f}')"
   ]
  }
 ],
 "metadata": {
  "kernelspec": {
   "display_name": "base",
   "language": "python",
   "name": "python3"
  },
  "language_info": {
   "codemirror_mode": {
    "name": "ipython",
    "version": 3
   },
   "file_extension": ".py",
   "mimetype": "text/x-python",
   "name": "python",
   "nbconvert_exporter": "python",
   "pygments_lexer": "ipython3",
   "version": "3.12.7"
  }
 },
 "nbformat": 4,
 "nbformat_minor": 5
}
