{
 "cells": [
  {
   "cell_type": "code",
   "execution_count": 1,
   "id": "2057d5c4",
   "metadata": {},
   "outputs": [
    {
     "name": "stdout",
     "output_type": "stream",
     "text": [
      "Hi,Michael,you have $1000.\n"
     ]
    }
   ],
   "source": [
    "#格式化字符串\n",
    "print('Hi,%s,you have $%d.' %('Michael',1000))"
   ]
  },
  {
   "cell_type": "code",
   "execution_count": 3,
   "id": "e9088046",
   "metadata": {},
   "outputs": [
    {
     "name": "stdout",
     "output_type": "stream",
     "text": [
      " 3-01\n",
      "3.14\n"
     ]
    }
   ],
   "source": [
    "#格式化补0整数\n",
    "print('%2d-%02d' %(3,1))\n",
    "\n",
    "#格式化小数位数\n",
    "print('%.2f' %3.1415926)"
   ]
  },
  {
   "cell_type": "code",
   "execution_count": 6,
   "id": "edcb42b0",
   "metadata": {},
   "outputs": [
    {
     "name": "stdout",
     "output_type": "stream",
     "text": [
      "Age:25. Gender:True.\n"
     ]
    }
   ],
   "source": [
    "#格式化字符串\n",
    "print('Age:%s. Gender:%s.' % (25,True))"
   ]
  },
  {
   "cell_type": "code",
   "execution_count": 8,
   "id": "29de5b6b",
   "metadata": {},
   "outputs": [
    {
     "name": "stdout",
     "output_type": "stream",
     "text": [
      "growth rate:7%\n"
     ]
    }
   ],
   "source": [
    "# %符号的转义\n",
    "print('growth rate:%d%%' % 7)"
   ]
  }
 ],
 "metadata": {
  "kernelspec": {
   "display_name": "base",
   "language": "python",
   "name": "python3"
  },
  "language_info": {
   "codemirror_mode": {
    "name": "ipython",
    "version": 3
   },
   "file_extension": ".py",
   "mimetype": "text/x-python",
   "name": "python",
   "nbconvert_exporter": "python",
   "pygments_lexer": "ipython3",
   "version": "3.12.7"
  }
 },
 "nbformat": 4,
 "nbformat_minor": 5
}
