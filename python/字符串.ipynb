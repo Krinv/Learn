{
 "cells": [
  {
   "cell_type": "code",
   "execution_count": 1,
   "id": "2057d5c4",
   "metadata": {},
   "outputs": [
    {
     "name": "stdout",
     "output_type": "stream",
     "text": [
      "Hi,Michael,you have $1000.\n"
     ]
    }
   ],
   "source": [
    "#格式化字符串\n",
    "print('Hi,%s,you have $%d.' %('Michael',1000))"
   ]
  },
  {
   "cell_type": "code",
   "execution_count": 2,
   "id": "e9088046",
   "metadata": {},
   "outputs": [
    {
     "name": "stdout",
     "output_type": "stream",
     "text": [
      " 3-01\n"
     ]
    }
   ],
   "source": [
    "#格式化补0整数\n",
    "print('%2d-%02d' %(3,1))"
   ]
  }
 ],
 "metadata": {
  "kernelspec": {
   "display_name": "base",
   "language": "python",
   "name": "python3"
  },
  "language_info": {
   "codemirror_mode": {
    "name": "ipython",
    "version": 3
   },
   "file_extension": ".py",
   "mimetype": "text/x-python",
   "name": "python",
   "nbconvert_exporter": "python",
   "pygments_lexer": "ipython3",
   "version": "3.12.7"
  }
 },
 "nbformat": 4,
 "nbformat_minor": 5
}
