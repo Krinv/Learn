{
 "cells": [
  {
   "cell_type": "markdown",
   "id": "a1f509ee",
   "metadata": {},
   "source": [
    "# TCP编程\n",
    "socket是网络编程的一个抽象概念，通常用一个socket表示打开了一个网络连接。\n",
    "\n",
    "打开一个socket需要知道目标计算机的ip地址和端口号，再指定协议类型"
   ]
  },
  {
   "cell_type": "markdown",
   "id": "76c1ef3c",
   "metadata": {},
   "source": [
    "## 客户端\n",
    "大多数连接都是可靠的TCP连接，创建TCP连接时，客户端主动发起连接，服务器被动响应连接"
   ]
  },
  {
   "cell_type": "code",
   "execution_count": 5,
   "id": "ae61358c",
   "metadata": {},
   "outputs": [],
   "source": [
    "#导入socket\n",
    "import socket\n",
    "\n",
    "#创建一个socket\n",
    "#AF_INET指定使用IPv4协议\n",
    "#SOCK_STREAM指定面向流的TCP协议\n",
    "s=socket.socket(socket.AF_INET,socket.SOCK_STREAM)\n",
    "\n",
    "#建立连接\n",
    "#入参tuple指定地址和端口\n",
    "s.connect(('www.sina.com.cn',80))"
   ]
  },
  {
   "cell_type": "code",
   "execution_count": 6,
   "id": "0021a14d",
   "metadata": {},
   "outputs": [
    {
     "data": {
      "text/plain": [
       "60"
      ]
     },
     "execution_count": 6,
     "metadata": {},
     "output_type": "execute_result"
    }
   ],
   "source": [
    "#发送请求申请返回首页内容\n",
    "# 发送数据:\n",
    "s.send(b'GET / HTTP/1.1\\r\\nHost: www.sina.com.cn\\r\\nConnection: close\\r\\n\\r\\n')"
   ]
  },
  {
   "cell_type": "code",
   "execution_count": 7,
   "id": "41c37cdd",
   "metadata": {},
   "outputs": [],
   "source": [
    "#接收数据\n",
    "buffer=[]\n",
    "\n",
    "while True:\n",
    "    #每次最多接收1k字节\n",
    "    d=s.recv(1024)\n",
    "\n",
    "    if d:\n",
    "        buffer.append(d)\n",
    "    else:\n",
    "        break\n",
    "data=b''.join(buffer)"
   ]
  },
  {
   "cell_type": "code",
   "execution_count": 8,
   "id": "01a1708c",
   "metadata": {},
   "outputs": [],
   "source": [
    "s.close()"
   ]
  },
  {
   "cell_type": "code",
   "execution_count": 9,
   "id": "f7c570ee",
   "metadata": {},
   "outputs": [
    {
     "name": "stdout",
     "output_type": "stream",
     "text": [
      "HTTP/1.1 302 Moved Temporarily\n",
      "Server: nginx\n",
      "Date: Thu, 14 Aug 2025 07:57:12 GMT\n",
      "Content-Type: text/html\n",
      "Content-Length: 138\n",
      "Connection: close\n",
      "Location: https://www.sina.com.cn/\n",
      "X-Via-CDN: f=sinaedge,s=cmcc.hangzhou.union.73.nb.sinaedge.com,c=39.174.232.254;\n"
     ]
    }
   ],
   "source": [
    "header,html=data.split(b'\\r\\n\\r\\n',1)\n",
    "print(header.decode('utf-8'))\n",
    "\n",
    "#接收的数据写入文件\n",
    "with open('sina.html','wb') as f:\n",
    "    f.write(html)"
   ]
  },
  {
   "cell_type": "markdown",
   "id": "fe75d5e1",
   "metadata": {},
   "source": [
    "## 服务器\n",
    "服务器进程首先要绑定一个端口，并监听来自其他客户端的连接，接收到某个客户端的连接，服务器就与其建立socket连接，之后靠其进行通信。\n",
    "\n",
    "因而服务器会打开固定端口监听。socket依赖：服务器地址、服务器端口、客户端地址、客户端端口来确定一个socket"
   ]
  },
  {
   "cell_type": "code",
   "execution_count": 15,
   "id": "abf20951",
   "metadata": {},
   "outputs": [
    {
     "ename": "OSError",
     "evalue": "[WinError 10045] 参考的对象类型不支持尝试的操作。",
     "output_type": "error",
     "traceback": [
      "\u001b[1;31m---------------------------------------------------------------------------\u001b[0m",
      "\u001b[1;31mOSError\u001b[0m                                   Traceback (most recent call last)",
      "Cell \u001b[1;32mIn[15], line 7\u001b[0m\n\u001b[0;32m      5\u001b[0m s\u001b[38;5;241m.\u001b[39mbind((\u001b[38;5;124m'\u001b[39m\u001b[38;5;124m127.0.0.1\u001b[39m\u001b[38;5;124m'\u001b[39m, \u001b[38;5;241m999\u001b[39m))\n\u001b[0;32m      6\u001b[0m \u001b[38;5;66;03m#开始监听\u001b[39;00m\n\u001b[1;32m----> 7\u001b[0m s\u001b[38;5;241m.\u001b[39mlisten(\u001b[38;5;241m5\u001b[39m)\n\u001b[0;32m      8\u001b[0m \u001b[38;5;28mprint\u001b[39m(\u001b[38;5;124m'\u001b[39m\u001b[38;5;124mWaiting for connection...\u001b[39m\u001b[38;5;124m'\u001b[39m)\n",
      "\u001b[1;31mOSError\u001b[0m: [WinError 10045] 参考的对象类型不支持尝试的操作。"
     ]
    }
   ],
   "source": [
    "#创建\n",
    "s=socket.socket(socket.AF_INET,socket.SOCK_DGRAM)\n",
    "\n",
    "# 监听端口:\n",
    "s.bind(('127.0.0.1', 999))\n",
    "#开始监听\n",
    "s.listen(5)\n",
    "print('Waiting for connection...')"
   ]
  }
 ],
 "metadata": {
  "kernelspec": {
   "display_name": "base",
   "language": "python",
   "name": "python3"
  },
  "language_info": {
   "codemirror_mode": {
    "name": "ipython",
    "version": 3
   },
   "file_extension": ".py",
   "mimetype": "text/x-python",
   "name": "python",
   "nbconvert_exporter": "python",
   "pygments_lexer": "ipython3",
   "version": "3.12.7"
  }
 },
 "nbformat": 4,
 "nbformat_minor": 5
}
