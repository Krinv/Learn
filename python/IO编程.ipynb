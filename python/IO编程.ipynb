{
 "cells": [
  {
   "cell_type": "markdown",
   "id": "d4d5dde8",
   "metadata": {},
   "source": [
    "# 读文件\n",
    "py内置open函数实现对文件的传入"
   ]
  },
  {
   "cell_type": "code",
   "execution_count": 3,
   "id": "cbc0a6d0",
   "metadata": {},
   "outputs": [
    {
     "data": {
      "text/plain": [
       "'1233455667'"
      ]
     },
     "execution_count": 3,
     "metadata": {},
     "output_type": "execute_result"
    }
   ],
   "source": [
    "file=open('./test.txt','r')\n",
    "file.read()"
   ]
  },
  {
   "cell_type": "code",
   "execution_count": 4,
   "id": "113bd280",
   "metadata": {},
   "outputs": [],
   "source": [
    "#关闭文件\n",
    "file.close()"
   ]
  },
  {
   "cell_type": "code",
   "execution_count": 6,
   "id": "88dc9f09",
   "metadata": {},
   "outputs": [
    {
     "name": "stdout",
     "output_type": "stream",
     "text": [
      "1233455667\n"
     ]
    }
   ],
   "source": [
    "#为避免IOError，可以使用try，但是try太繁琐，因而可以with替代\n",
    "with open('./test.txt','r') as f:\n",
    "    print(f.read())"
   ]
  },
  {
   "cell_type": "code",
   "execution_count": 7,
   "id": "03c057da",
   "metadata": {},
   "outputs": [
    {
     "name": "stdout",
     "output_type": "stream",
     "text": [
      "b'1233455667'\n"
     ]
    }
   ],
   "source": [
    "#以二进制文件打开\n",
    "f=open('./test.txt','rb')\n",
    "print(f.read())"
   ]
  },
  {
   "cell_type": "code",
   "execution_count": 9,
   "id": "b01a52b4",
   "metadata": {},
   "outputs": [
    {
     "name": "stdout",
     "output_type": "stream",
     "text": [
      "1233455667\n"
     ]
    }
   ],
   "source": [
    "#增加编码参数\n",
    "f=open('./test.txt','r',encoding='gbk')\n",
    "print(f.read())"
   ]
  },
  {
   "cell_type": "markdown",
   "id": "561c699d",
   "metadata": {},
   "source": [
    "# 写文件"
   ]
  },
  {
   "cell_type": "code",
   "execution_count": 11,
   "id": "1f6ab9f2",
   "metadata": {},
   "outputs": [
    {
     "name": "stdout",
     "output_type": "stream",
     "text": [
      "Hello,world!\n"
     ]
    }
   ],
   "source": [
    "f=open('./test.txt','w')\n",
    "f.write('Hello,world!')\n",
    "\n",
    "f=open('./test.txt','r')\n",
    "print(f.read())"
   ]
  },
  {
   "cell_type": "markdown",
   "id": "2dcf47d8",
   "metadata": {},
   "source": [
    "# StringIO\n",
    "内存中读写str，而非文件中"
   ]
  },
  {
   "cell_type": "code",
   "execution_count": 13,
   "id": "f3ba4801",
   "metadata": {},
   "outputs": [
    {
     "name": "stdout",
     "output_type": "stream",
     "text": [
      "Hello World!\n"
     ]
    }
   ],
   "source": [
    "from io import StringIO\n",
    "f=StringIO()\n",
    "\n",
    "f.write('Hello')\n",
    "f.write(\" \")\n",
    "f.write('World!')\n",
    "\n",
    "print(f.getvalue())"
   ]
  },
  {
   "cell_type": "markdown",
   "id": "4c7b04c6",
   "metadata": {},
   "source": [
    "# BytesIO\n",
    "对于二进制数据，使用此函数在内存中操作"
   ]
  },
  {
   "cell_type": "code",
   "execution_count": 14,
   "id": "e420c4a9",
   "metadata": {},
   "outputs": [
    {
     "name": "stdout",
     "output_type": "stream",
     "text": [
      "b'\\xe4\\xb8\\xad\\xe6\\x96\\x87'\n"
     ]
    }
   ],
   "source": [
    "from io import BytesIO\n",
    "\n",
    "f=BytesIO()\n",
    "f.write('中文'.encode('utf-8'))\n",
    "\n",
    "print(f.getvalue())"
   ]
  },
  {
   "cell_type": "markdown",
   "id": "ac62cde0",
   "metadata": {},
   "source": [
    "# 操作文件和目录"
   ]
  },
  {
   "cell_type": "code",
   "execution_count": 15,
   "id": "0df4e4e3",
   "metadata": {},
   "outputs": [
    {
     "data": {
      "text/plain": [
       "'nt'"
      ]
     },
     "execution_count": 15,
     "metadata": {},
     "output_type": "execute_result"
    }
   ],
   "source": [
    "import os\n",
    "os.name"
   ]
  },
  {
   "cell_type": "code",
   "execution_count": 18,
   "id": "717f16ae",
   "metadata": {},
   "outputs": [
    {
     "data": {
      "text/plain": [
       "environ{'ACSETUPSVCPORT': '23210',\n",
       "        'ACSVCPORT': '17532',\n",
       "        'ALLUSERSPROFILE': 'C:\\\\ProgramData',\n",
       "        'APPDATA': 'C:\\\\Users\\\\Krinv\\\\AppData\\\\Roaming',\n",
       "        'CHROME_CRASHPAD_PIPE_NAME': '\\\\\\\\.\\\\pipe\\\\crashpad_30324_KXGNRCFVJVGWPCES',\n",
       "        'COMMONPROGRAMFILES': 'C:\\\\Program Files\\\\Common Files',\n",
       "        'COMMONPROGRAMFILES(X86)': 'C:\\\\Program Files (x86)\\\\Common Files',\n",
       "        'COMMONPROGRAMW6432': 'C:\\\\Program Files\\\\Common Files',\n",
       "        'COMPUTERNAME': 'MOONBRIDE17',\n",
       "        'COMSPEC': 'C:\\\\Windows\\\\system32\\\\cmd.exe',\n",
       "        'CONDA_ALLOW_SOFTLINKS': 'false',\n",
       "        'CONDA_DEFAULT_ENV': 'base',\n",
       "        'CONDA_EXE': 'C:\\\\Softwares\\\\Anaconda\\\\Scripts\\\\conda.exe',\n",
       "        'CONDA_PREFIX': 'C:\\\\Softwares\\\\Anaconda',\n",
       "        'CONDA_PROMPT_MODIFIER': '(base) ',\n",
       "        'CONDA_PYTHON_EXE': 'C:\\\\Softwares\\\\Anaconda\\\\python.exe',\n",
       "        'CONDA_ROOT': 'C:\\\\Softwares\\\\Anaconda',\n",
       "        'CONDA_SHLVL': '1',\n",
       "        'DATAGRIP': 'D:\\\\DataGrip 2020.1.5\\\\bin;',\n",
       "        'DRIVERDATA': 'C:\\\\Windows\\\\System32\\\\Drivers\\\\DriverData',\n",
       "        'EFC_12636_1262719628': '1',\n",
       "        'EFC_12636_1592913036': '1',\n",
       "        'EFC_12636_2283032206': '1',\n",
       "        'EFC_12636_2775293581': '1',\n",
       "        'EFC_12636_3789132940': '1',\n",
       "        'ELECTRON_RUN_AS_NODE': '1',\n",
       "        'ENABLELOG': 'INFO',\n",
       "        'FARGODATAPATH': 'C:\\\\Users\\\\Krinv\\\\Documents\\\\My Games\\\\Terraria\\\\tModLoader\\\\Dev',\n",
       "        'FPS_BROWSER_APP_PROFILE_STRING': 'Internet Explorer',\n",
       "        'FPS_BROWSER_USER_PROFILE_STRING': 'Default',\n",
       "        'HOMEDRIVE': 'C:',\n",
       "        'HOMEPATH': '\\\\Users\\\\Krinv',\n",
       "        'INTELLIJ IDEA COMMUNITY EDITION': 'D:\\\\IntelliJ IDEA Community 2022.1.4\\\\bin;',\n",
       "        'JPY_INTERRUPT_EVENT': '2244',\n",
       "        'LOCALAPPDATA': 'C:\\\\Users\\\\Krinv\\\\AppData\\\\Local',\n",
       "        'LOGONSERVER': '\\\\\\\\MOONBRIDE17',\n",
       "        'MAVEN_HOME': 'D:\\\\Apache Maven\\\\apache-maven-3.9.10',\n",
       "        'NODE_HOME': 'D:\\\\Node',\n",
       "        'NUMBER_OF_PROCESSORS': '32',\n",
       "        'ONEDRIVE': 'C:\\\\Users\\\\Krinv\\\\OneDrive',\n",
       "        'ORIGINAL_XDG_CURRENT_DESKTOP': 'undefined',\n",
       "        'OS': 'Windows_NT',\n",
       "        'PATH': 'c:\\\\Softwares\\\\Anaconda;C:\\\\Softwares\\\\Anaconda;C:\\\\Softwares\\\\Anaconda\\\\Library\\\\mingw-w64\\\\bin;C:\\\\Softwares\\\\Anaconda\\\\Library\\\\usr\\\\bin;C:\\\\Softwares\\\\Anaconda\\\\Library\\\\bin;C:\\\\Softwares\\\\Anaconda\\\\Scripts;C:\\\\Softwares\\\\Anaconda\\\\bin;C:\\\\Softwares\\\\Anaconda\\\\condabin;C:\\\\Program Files\\\\Common Files\\\\Oracle\\\\Java\\\\javapath;C:\\\\Windows\\\\system32;C:\\\\Windows;C:\\\\Windows\\\\System32\\\\Wbem;C:\\\\Windows\\\\System32\\\\WindowsPowerShell\\\\v1.0;C:\\\\Windows\\\\System32\\\\OpenSSH;C:\\\\Program Files (x86)\\\\NVIDIA Corporation\\\\PhysX\\\\Common;C:\\\\Program Files\\\\dotnet;C:\\\\Program Files\\\\NVIDIA Corporation\\\\NVIDIA App\\\\NvDLISR;C:\\\\Softwares\\\\Git\\\\cmd;D:\\\\Calibre;C:\\\\Program Files (x86)\\\\Windows Kits\\\\10\\\\Windows Performance Toolkit;D:\\\\Node;D:\\\\Node\\\\node_global;D:\\\\Node\\\\node_cache;D:\\\\Apache Maven\\\\apache-maven-3.9.10\\\\bin;D:\\\\MySQL\\\\bin;D:\\\\XShell 8;D:\\\\Xftp 8;C:\\\\Users\\\\Krinv\\\\AppData\\\\Local\\\\Microsoft\\\\WindowsApps;C:\\\\Softwares\\\\Microsoft VS Code\\\\bin;C:\\\\Softwares\\\\Anaconda;C:\\\\Softwares\\\\Anaconda\\\\Scripts;C:\\\\Softwares\\\\Anaconda\\\\Library\\\\bin;C:\\\\Softwares\\\\texlive\\\\bin\\\\windows;C:\\\\Softwares\\\\pandoc-3.6.4\\\\pandoc-3.6.4;D:\\\\DataGrip 2020.1.5\\\\bin;.;D:\\\\IntelliJ IDEA Community 2022.1.4\\\\bin;.;D:\\\\Node\\\\node_global;.',\n",
       "        'PATHEXT': '.COM;.EXE;.BAT;.CMD;.VBS;.VBE;.JS;.JSE;.WSF;.WSH;.MSC',\n",
       "        'PROCESSOR_ARCHITECTURE': 'AMD64',\n",
       "        'PROCESSOR_IDENTIFIER': 'AMD64 Family 25 Model 97 Stepping 2, AuthenticAMD',\n",
       "        'PROCESSOR_LEVEL': '25',\n",
       "        'PROCESSOR_REVISION': '6102',\n",
       "        'PROGRAMDATA': 'C:\\\\ProgramData',\n",
       "        'PROGRAMFILES': 'C:\\\\Program Files',\n",
       "        'PROGRAMFILES(X86)': 'C:\\\\Program Files (x86)',\n",
       "        'PROGRAMW6432': 'C:\\\\Program Files',\n",
       "        'PROMPT': '(base) $P$G',\n",
       "        'PSMODULEPATH': 'C:\\\\Program Files\\\\WindowsPowerShell\\\\Modules;C:\\\\Windows\\\\system32\\\\WindowsPowerShell\\\\v1.0\\\\Modules',\n",
       "        'PUBLIC': 'C:\\\\Users\\\\Public',\n",
       "        'PYDEVD_IPYTHON_COMPATIBLE_DEBUGGING': '1',\n",
       "        'PYTHONIOENCODING': 'utf-8',\n",
       "        'PYTHONUNBUFFERED': '1',\n",
       "        'PYTHONUTF8': '1',\n",
       "        'PYTHON_FROZEN_MODULES': 'on',\n",
       "        'RLSSVCPORT': '22112',\n",
       "        'SESSIONNAME': 'Console',\n",
       "        'SSL_CERT_FILE': 'C:\\\\Softwares\\\\Anaconda\\\\Library\\\\ssl\\\\cacert.pem',\n",
       "        'STM32CUBEMX_PATH': 'D:\\\\STM32CubeMX',\n",
       "        'SYSTEMDRIVE': 'C:',\n",
       "        'SYSTEMROOT': 'C:\\\\Windows',\n",
       "        'TEMP': 'C:\\\\Users\\\\Krinv\\\\AppData\\\\Local\\\\Temp',\n",
       "        'TMP': 'C:\\\\Users\\\\Krinv\\\\AppData\\\\Local\\\\Temp',\n",
       "        'USERDOMAIN': 'MOONBRIDE17',\n",
       "        'USERDOMAIN_ROAMINGPROFILE': 'MOONBRIDE17',\n",
       "        'USERNAME': 'Krinv',\n",
       "        'USERPROFILE': 'C:\\\\Users\\\\Krinv',\n",
       "        'VBOX_MSI_INSTALL_PATH': 'D:\\\\VirtualBox 7.1\\\\',\n",
       "        'VSCODE_CODE_CACHE_PATH': 'C:\\\\Users\\\\Krinv\\\\AppData\\\\Roaming\\\\Code\\\\CachedData\\\\488a1f239235055e34e673291fb8d8c810886f81',\n",
       "        'VSCODE_CRASH_REPORTER_PROCESS_TYPE': 'extensionHost',\n",
       "        'VSCODE_CWD': 'C:\\\\Softwares\\\\Microsoft VS Code',\n",
       "        'VSCODE_ESM_ENTRYPOINT': 'vs/workbench/api/node/extensionHostProcess',\n",
       "        'VSCODE_HANDLES_UNCAUGHT_ERRORS': 'true',\n",
       "        'VSCODE_IPC_HOOK': '\\\\\\\\.\\\\pipe\\\\d9ef9522-1.102.3-main-sock',\n",
       "        'VSCODE_L10N_BUNDLE_LOCATION': 'file:///c%3A/Users/Krinv/.vscode/extensions/ms-ceintl.vscode-language-pack-zh-hans-1.102.2025071609/translations/extensions/vscode.markdown-language-features.i18n.json',\n",
       "        'VSCODE_NLS_CONFIG': '{\"userLocale\":\"zh-cn\",\"osLocale\":\"en-us\",\"resolvedLanguage\":\"zh-cn\",\"defaultMessagesFile\":\"C:\\\\\\\\Softwares\\\\\\\\Microsoft VS Code\\\\\\\\resources\\\\\\\\app\\\\\\\\out\\\\\\\\nls.messages.json\",\"languagePack\":{\"translationsConfigFile\":\"C:\\\\\\\\Users\\\\\\\\Krinv\\\\\\\\AppData\\\\\\\\Roaming\\\\\\\\Code\\\\\\\\clp\\\\\\\\95cf6c2c32c938668736e47d6ef0a7a1.zh-cn\\\\\\\\tcf.json\",\"messagesFile\":\"C:\\\\\\\\Users\\\\\\\\Krinv\\\\\\\\AppData\\\\\\\\Roaming\\\\\\\\Code\\\\\\\\clp\\\\\\\\95cf6c2c32c938668736e47d6ef0a7a1.zh-cn\\\\\\\\488a1f239235055e34e673291fb8d8c810886f81\\\\\\\\nls.messages.json\",\"corruptMarkerFile\":\"C:\\\\\\\\Users\\\\\\\\Krinv\\\\\\\\AppData\\\\\\\\Roaming\\\\\\\\Code\\\\\\\\clp\\\\\\\\95cf6c2c32c938668736e47d6ef0a7a1.zh-cn\\\\\\\\corrupted.info\"},\"locale\":\"zh-cn\",\"availableLanguages\":{\"*\":\"zh-cn\"},\"_languagePackId\":\"95cf6c2c32c938668736e47d6ef0a7a1.zh-cn\",\"_languagePackSupport\":true,\"_translationsConfigFile\":\"C:\\\\\\\\Users\\\\\\\\Krinv\\\\\\\\AppData\\\\\\\\Roaming\\\\\\\\Code\\\\\\\\clp\\\\\\\\95cf6c2c32c938668736e47d6ef0a7a1.zh-cn\\\\\\\\tcf.json\",\"_cacheRoot\":\"C:\\\\\\\\Users\\\\\\\\Krinv\\\\\\\\AppData\\\\\\\\Roaming\\\\\\\\Code\\\\\\\\clp\\\\\\\\95cf6c2c32c938668736e47d6ef0a7a1.zh-cn\",\"_resolvedLanguagePackCoreLocation\":\"C:\\\\\\\\Users\\\\\\\\Krinv\\\\\\\\AppData\\\\\\\\Roaming\\\\\\\\Code\\\\\\\\clp\\\\\\\\95cf6c2c32c938668736e47d6ef0a7a1.zh-cn\\\\\\\\488a1f239235055e34e673291fb8d8c810886f81\",\"_corruptedFile\":\"C:\\\\\\\\Users\\\\\\\\Krinv\\\\\\\\AppData\\\\\\\\Roaming\\\\\\\\Code\\\\\\\\clp\\\\\\\\95cf6c2c32c938668736e47d6ef0a7a1.zh-cn\\\\\\\\corrupted.info\"}',\n",
       "        'VSCODE_PID': '30324',\n",
       "        'WINDIR': 'C:\\\\Windows',\n",
       "        'WOTGDATAPATH': 'C:\\\\Users\\\\Krinv\\\\Documents\\\\My Games\\\\Terraria\\\\tModLoader\\\\Dev',\n",
       "        '_CONDA_OLD_CHCP': '936',\n",
       "        '__CONDA_OPENSLL_CERT_FILE_SET': '\"1\"',\n",
       "        'PYDEVD_USE_FRAME_EVAL': 'NO',\n",
       "        'TERM': 'xterm-color',\n",
       "        'CLICOLOR': '1',\n",
       "        'FORCE_COLOR': '1',\n",
       "        'CLICOLOR_FORCE': '1',\n",
       "        'PAGER': 'cat',\n",
       "        'GIT_PAGER': 'cat',\n",
       "        'MPLBACKEND': 'module://matplotlib_inline.backend_inline'}"
      ]
     },
     "execution_count": 18,
     "metadata": {},
     "output_type": "execute_result"
    }
   ],
   "source": [
    "os.environ"
   ]
  },
  {
   "cell_type": "markdown",
   "id": "2f84b984",
   "metadata": {},
   "source": [
    "# 序列化\n",
    "将变量从内存中变成可存储、传输的过程"
   ]
  },
  {
   "cell_type": "code",
   "execution_count": 2,
   "id": "d20e50b2",
   "metadata": {},
   "outputs": [
    {
     "data": {
      "text/plain": [
       "b'\\x80\\x04\\x95$\\x00\\x00\\x00\\x00\\x00\\x00\\x00}\\x94(\\x8c\\x04name\\x94\\x8c\\x03Bob\\x94\\x8c\\x03age\\x94K\\x14\\x8c\\x05score\\x94KXu.'"
      ]
     },
     "execution_count": 2,
     "metadata": {},
     "output_type": "execute_result"
    }
   ],
   "source": [
    "import pickle\n",
    "d=dict(name='Bob',age=20,score=88)\n",
    "\n",
    "pickle.dumps(d) #将任意对象序列化成bytes"
   ]
  },
  {
   "cell_type": "code",
   "execution_count": 3,
   "id": "dab36916",
   "metadata": {},
   "outputs": [],
   "source": [
    "#保存入文件\n",
    "f=open('dump.txt','wb')\n",
    "pickle.dump(d,f)"
   ]
  },
  {
   "cell_type": "code",
   "execution_count": 5,
   "id": "3b634610",
   "metadata": {},
   "outputs": [
    {
     "name": "stdout",
     "output_type": "stream",
     "text": [
      "<built-in method read of _io.BufferedWriter object at 0x0000028F028A7320>\n"
     ]
    }
   ],
   "source": [
    "print(f.read)\n",
    "f.close()"
   ]
  },
  {
   "cell_type": "code",
   "execution_count": 6,
   "id": "704a4db2",
   "metadata": {},
   "outputs": [
    {
     "data": {
      "text/plain": [
       "{'name': 'Bob', 'age': 20, 'score': 88}"
      ]
     },
     "execution_count": 6,
     "metadata": {},
     "output_type": "execute_result"
    }
   ],
   "source": [
    "f=open('dump.txt','rb')\n",
    "d=pickle.load(f)\n",
    "f.close()\n",
    "d"
   ]
  },
  {
   "cell_type": "markdown",
   "id": "b8b84846",
   "metadata": {},
   "source": [
    "# Json化\n",
    "即JavaScript对象"
   ]
  },
  {
   "cell_type": "code",
   "execution_count": null,
   "id": "ac3654c6",
   "metadata": {},
   "outputs": [
    {
     "data": {
      "text/plain": [
       "'{\"name\": \"Bob\", \"age\": 20, \"score\": 88}'"
      ]
     },
     "execution_count": 8,
     "metadata": {},
     "output_type": "execute_result"
    }
   ],
   "source": [
    "#py->json\n",
    "import json\n",
    "d=dict(name='Bob',age=20,score=88)\n",
    "\n",
    "json.dumps(d)"
   ]
  },
  {
   "cell_type": "code",
   "execution_count": null,
   "id": "d0809fba",
   "metadata": {},
   "outputs": [
    {
     "data": {
      "text/plain": [
       "{'age': 20, 'score': 88, 'name': 'Bob'}"
      ]
     },
     "execution_count": 10,
     "metadata": {},
     "output_type": "execute_result"
    }
   ],
   "source": [
    "#json->py\n",
    "json_str='{\"age\":20,\"score\":88,\"name\":\"Bob\"}'\n",
    "json.loads(json_str)"
   ]
  },
  {
   "cell_type": "markdown",
   "id": "0a05e6d4",
   "metadata": {},
   "source": [
    "# Json化class"
   ]
  },
  {
   "cell_type": "code",
   "execution_count": 12,
   "id": "4a686a4e",
   "metadata": {},
   "outputs": [
    {
     "name": "stdout",
     "output_type": "stream",
     "text": [
      "{\"name\": \"Bob\", \"age\": 20, \"score\": 88}\n"
     ]
    }
   ],
   "source": [
    "import json\n",
    "\n",
    "class Student(object):\n",
    "    def __init__(self,name,age,score):\n",
    "        self.name=name\n",
    "        self.age=age\n",
    "        self.score=score\n",
    "\n",
    "s=Student('Bob',20,88)\n",
    "\n",
    "#不能直接dump,可利用一个函数转换\n",
    "def student2dict(std):\n",
    "    return{\n",
    "        'name': std.name,\n",
    "        'age': std.age,\n",
    "        'score': std.score\n",
    "    }\n",
    "\n",
    "print(json.dumps(s, default=student2dict))\n"
   ]
  },
  {
   "cell_type": "code",
   "execution_count": null,
   "id": "2f6f2dc9",
   "metadata": {},
   "outputs": [],
   "source": [
    "#同理反转化也一样\n",
    "def dict2student(d):\n",
    "    return Student(d['name'], d['age'], d['score'])"
   ]
  }
 ],
 "metadata": {
  "kernelspec": {
   "display_name": "base",
   "language": "python",
   "name": "python3"
  },
  "language_info": {
   "codemirror_mode": {
    "name": "ipython",
    "version": 3
   },
   "file_extension": ".py",
   "mimetype": "text/x-python",
   "name": "python",
   "nbconvert_exporter": "python",
   "pygments_lexer": "ipython3",
   "version": "3.12.7"
  }
 },
 "nbformat": 4,
 "nbformat_minor": 5
}
