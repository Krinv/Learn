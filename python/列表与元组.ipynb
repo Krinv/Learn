{
 "cells": [
  {
   "cell_type": "markdown",
   "id": "4c5634cd",
   "metadata": {},
   "source": [
    "# 列表与元组"
   ]
  },
  {
   "cell_type": "markdown",
   "id": "53e11f35",
   "metadata": {},
   "source": [
    "## list"
   ]
  },
  {
   "cell_type": "code",
   "execution_count": 3,
   "id": "e18e2ecc",
   "metadata": {},
   "outputs": [
    {
     "name": "stdout",
     "output_type": "stream",
     "text": [
      "['a', 'b', 'c']\n",
      "a\n",
      "b\n",
      "c\n"
     ]
    }
   ],
   "source": [
    "#类似数组\n",
    "classmate=['a','b','c']\n",
    "print(classmate)\n",
    "\n",
    "print(classmate[0])\n",
    "print(classmate[1])\n",
    "print(classmate[2])"
   ]
  },
  {
   "cell_type": "code",
   "execution_count": 2,
   "id": "a17ea771",
   "metadata": {},
   "outputs": [
    {
     "data": {
      "text/plain": [
       "3"
      ]
     },
     "execution_count": 2,
     "metadata": {},
     "output_type": "execute_result"
    }
   ],
   "source": [
    "#长度函数\n",
    "len(classmate)"
   ]
  },
  {
   "cell_type": "code",
   "execution_count": 4,
   "id": "16054633",
   "metadata": {},
   "outputs": [
    {
     "name": "stdout",
     "output_type": "stream",
     "text": [
      "c\n"
     ]
    }
   ],
   "source": [
    "#使用负数索引获取后方元素\n",
    "print(classmate[-1])"
   ]
  },
  {
   "cell_type": "code",
   "execution_count": 5,
   "id": "be5fb6c3",
   "metadata": {},
   "outputs": [
    {
     "name": "stdout",
     "output_type": "stream",
     "text": [
      "['a', 'b', 'c', 'd']\n"
     ]
    }
   ],
   "source": [
    "#list末尾追加元素\n",
    "classmate.append('d')\n",
    "print(classmate)"
   ]
  },
  {
   "cell_type": "code",
   "execution_count": null,
   "id": "37d169c2",
   "metadata": {},
   "outputs": [
    {
     "name": "stdout",
     "output_type": "stream",
     "text": [
      "['a', 'b', 'c']\n"
     ]
    }
   ],
   "source": [
    "#弹出末尾元素并删除\n",
    "classmate.pop()\n",
    "print(classmate)"
   ]
  },
  {
   "cell_type": "code",
   "execution_count": 7,
   "id": "a4929300",
   "metadata": {},
   "outputs": [
    {
     "name": "stdout",
     "output_type": "stream",
     "text": [
      "['a', 'c']\n"
     ]
    }
   ],
   "source": [
    "#弹出指定元素\n",
    "classmate.pop(1)\n",
    "print(classmate)"
   ]
  },
  {
   "cell_type": "markdown",
   "id": "20fb2d3d",
   "metadata": {},
   "source": [
    "### list中允许多种类型元素存在"
   ]
  },
  {
   "cell_type": "code",
   "execution_count": null,
   "id": "48285ddd",
   "metadata": {},
   "outputs": [
    {
     "name": "stdout",
     "output_type": "stream",
     "text": [
      "['666', True, 111, 111, ['1', '2', '3'], 111, ['1', '2', '3'], 111, ['1', '2', '3']]\n"
     ]
    }
   ],
   "source": [
    "classmate[0]='666'\n",
    "classmate[1]=True\n",
    "classmate.append(111)\n",
    "\n",
    "#允许list套入list\n",
    "l=['1','2','3']\n",
    "classmate.append(l)\n",
    "print(classmate)"
   ]
  },
  {
   "cell_type": "markdown",
   "id": "da52fac0",
   "metadata": {},
   "source": [
    "## turple\n",
    "有序元组，一经过初始化便不能修改(安全系数更高)"
   ]
  },
  {
   "cell_type": "code",
   "execution_count": 12,
   "id": "cbb0e6e9",
   "metadata": {},
   "outputs": [
    {
     "name": "stdout",
     "output_type": "stream",
     "text": [
      "('1', '2', '3')\n"
     ]
    }
   ],
   "source": [
    "mates=('1','2','3')\n",
    "print(mates)"
   ]
  }
 ],
 "metadata": {
  "kernelspec": {
   "display_name": "base",
   "language": "python",
   "name": "python3"
  },
  "language_info": {
   "codemirror_mode": {
    "name": "ipython",
    "version": 3
   },
   "file_extension": ".py",
   "mimetype": "text/x-python",
   "name": "python",
   "nbconvert_exporter": "python",
   "pygments_lexer": "ipython3",
   "version": "3.12.7"
  }
 },
 "nbformat": 4,
 "nbformat_minor": 5
}
