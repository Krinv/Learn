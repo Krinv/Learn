{
 "cells": [
  {
   "cell_type": "markdown",
   "id": "e393f11c",
   "metadata": {},
   "source": [
    "# 错误"
   ]
  },
  {
   "cell_type": "markdown",
   "id": "007275d7",
   "metadata": {},
   "source": [
    "## try\n",
    "错误的出现是级级上报，直到某个函数可以处理错误"
   ]
  },
  {
   "cell_type": "code",
   "execution_count": 1,
   "id": "464f3e0b",
   "metadata": {},
   "outputs": [
    {
     "name": "stdout",
     "output_type": "stream",
     "text": [
      "try ...\n",
      "except: division by zero\n",
      "finally...\n",
      "END\n"
     ]
    }
   ],
   "source": [
    "#try的机制\n",
    "try:    #当一段代码可能出错时，用try进行\n",
    "    print('try ...')\n",
    "    r=10/0\n",
    "    print('result:',r)  #此段不执行\n",
    "except ZeroDivisionError as e:   #发生出错即刻跳转到此错误处理代码，此错误为python预定义的异常类\n",
    "    print('except:',e)\n",
    "finally:    #执行完except后，有此块则执行此\n",
    "    print('finally...')\n",
    "print('END')"
   ]
  },
  {
   "cell_type": "code",
   "execution_count": 2,
   "id": "2530f4f0",
   "metadata": {},
   "outputs": [
    {
     "name": "stdout",
     "output_type": "stream",
     "text": [
      "try ...\n",
      "result: 5.0\n",
      "finally...\n",
      "END\n"
     ]
    }
   ],
   "source": [
    "#不会报错的情况\n",
    "try:    #当一段代码可能出错时，用try进行\n",
    "    print('try ...')\n",
    "    r=10/2\n",
    "    print('result:',r)  #此段执行\n",
    "except ZeroDivisionError as e:   #发生出错即刻跳转到此错误处理代码，此错误为python预定义的异常类\n",
    "    print('except:',e)\n",
    "finally:    #执行完except后，有此块则执行此\n",
    "    print('finally...')\n",
    "print('END')"
   ]
  },
  {
   "cell_type": "code",
   "execution_count": 3,
   "id": "77288519",
   "metadata": {},
   "outputs": [
    {
     "name": "stdout",
     "output_type": "stream",
     "text": [
      "try ...\n",
      "ValueError: invalid literal for int() with base 10: 'a'\n",
      "finally...\n",
      "END\n"
     ]
    }
   ],
   "source": [
    "#有多种错误发生的情况需要多个except处理\n",
    "try:\n",
    "    print('try ...')\n",
    "    r=10/int('a')\n",
    "    print('result:',r)  \n",
    "except ZeroDivisionError as e:\n",
    "    print('ZeroDivisionError:',e)\n",
    "except ValueError as e:\n",
    "    print('ValueError:',e)\n",
    "\n",
    "else:\n",
    "    print('No Error!')\n",
    "\n",
    "finally:    #存在则一定被执行的部分\n",
    "    print('finally...')\n",
    "print('END')"
   ]
  },
  {
   "cell_type": "code",
   "execution_count": 4,
   "id": "81130086",
   "metadata": {},
   "outputs": [
    {
     "name": "stdout",
     "output_type": "stream",
     "text": [
      "try ...\n",
      "result: 5.0\n",
      "No Error!\n",
      "finally...\n",
      "END\n"
     ]
    }
   ],
   "source": [
    "#有多种错误发生的情况需要多个except处理\n",
    "try:\n",
    "    print('try ...')\n",
    "    r=10/2\n",
    "    print('result:',r)  \n",
    "except ZeroDivisionError as e:\n",
    "    print('ZeroDivisionError:',e)\n",
    "except ValueError as e:\n",
    "    print('ValueError:',e)\n",
    "\n",
    "else:\n",
    "    print('No Error!')\n",
    "\n",
    "finally:    #存在则一定被执行的部分\n",
    "    print('finally...')\n",
    "print('END')"
   ]
  },
  {
   "cell_type": "code",
   "execution_count": 5,
   "id": "18014b15",
   "metadata": {},
   "outputs": [
    {
     "name": "stdout",
     "output_type": "stream",
     "text": [
      "Error: division by zero\n",
      "finally...\n"
     ]
    }
   ],
   "source": [
    "#跨层捕获\n",
    "def foo(s):\n",
    "    return 10 / int(s)\n",
    "\n",
    "def bar(s):\n",
    "    return foo(s) * 2\n",
    "\n",
    "#多级调用，但是在main中亦可以捕获，省去写很多try的麻烦\n",
    "def main():\n",
    "    try:\n",
    "        bar('0')\n",
    "    except Exception as e:\n",
    "        print('Error:', e)\n",
    "    finally:\n",
    "        print('finally...')\n",
    "\n",
    "main()"
   ]
  },
  {
   "cell_type": "markdown",
   "id": "b93985c8",
   "metadata": {},
   "source": [
    "## 记录错误\n",
    "通过logging方法可以把错误栈打印出来"
   ]
  },
  {
   "cell_type": "code",
   "execution_count": 6,
   "id": "498e11e4",
   "metadata": {},
   "outputs": [
    {
     "name": "stderr",
     "output_type": "stream",
     "text": [
      "ERROR:root:division by zero\n",
      "Traceback (most recent call last):\n",
      "  File \"C:\\Users\\Krinv\\AppData\\Local\\Temp\\ipykernel_32864\\1073513280.py\", line 11, in main\n",
      "    bar('0')\n",
      "  File \"C:\\Users\\Krinv\\AppData\\Local\\Temp\\ipykernel_32864\\1073513280.py\", line 7, in bar\n",
      "    return foo(s)*2\n",
      "           ^^^^^^\n",
      "  File \"C:\\Users\\Krinv\\AppData\\Local\\Temp\\ipykernel_32864\\1073513280.py\", line 4, in foo\n",
      "    return 10/int(s)\n",
      "           ~~^~~~~~~\n",
      "ZeroDivisionError: division by zero\n"
     ]
    },
    {
     "name": "stdout",
     "output_type": "stream",
     "text": [
      "END\n"
     ]
    }
   ],
   "source": [
    "import logging\n",
    "\n",
    "def foo(s):\n",
    "    return 10/int(s)\n",
    "\n",
    "def bar(s):\n",
    "    return foo(s)*2\n",
    "\n",
    "def main():\n",
    "    try:\n",
    "        bar('0')\n",
    "    except Exception as e:\n",
    "        logging.exception(e)\n",
    "main()\n",
    "\n",
    "#错误找寻路径：main->bar->foo->ZeroDivisionError\n",
    "print('END')"
   ]
  },
  {
   "cell_type": "markdown",
   "id": "d9d6a6ed",
   "metadata": {},
   "source": [
    "## 抛出错误\n",
    "错误是class,获取错误就是获取该类的一个实例，因而错误是有意创建并抛出的，允许自定义错误"
   ]
  },
  {
   "cell_type": "code",
   "execution_count": 7,
   "id": "7a788bac",
   "metadata": {},
   "outputs": [
    {
     "ename": "FooError",
     "evalue": "invalid value:0",
     "output_type": "error",
     "traceback": [
      "\u001b[1;31m---------------------------------------------------------------------------\u001b[0m",
      "\u001b[1;31mFooError\u001b[0m                                  Traceback (most recent call last)",
      "Cell \u001b[1;32mIn[7], line 10\u001b[0m\n\u001b[0;32m      7\u001b[0m         \u001b[38;5;28;01mraise\u001b[39;00m FooError(\u001b[38;5;124m'\u001b[39m\u001b[38;5;124minvalid value:\u001b[39m\u001b[38;5;132;01m%s\u001b[39;00m\u001b[38;5;124m'\u001b[39m \u001b[38;5;241m%\u001b[39ms)\n\u001b[0;32m      8\u001b[0m     \u001b[38;5;28;01mreturn\u001b[39;00m \u001b[38;5;241m10\u001b[39m\u001b[38;5;241m/\u001b[39mn\n\u001b[1;32m---> 10\u001b[0m foo(\u001b[38;5;124m'\u001b[39m\u001b[38;5;124m0\u001b[39m\u001b[38;5;124m'\u001b[39m)\n",
      "Cell \u001b[1;32mIn[7], line 7\u001b[0m, in \u001b[0;36mfoo\u001b[1;34m(s)\u001b[0m\n\u001b[0;32m      5\u001b[0m n\u001b[38;5;241m=\u001b[39m\u001b[38;5;28mint\u001b[39m(s)\n\u001b[0;32m      6\u001b[0m \u001b[38;5;28;01mif\u001b[39;00m(n\u001b[38;5;241m==\u001b[39m\u001b[38;5;241m0\u001b[39m):\n\u001b[1;32m----> 7\u001b[0m     \u001b[38;5;28;01mraise\u001b[39;00m FooError(\u001b[38;5;124m'\u001b[39m\u001b[38;5;124minvalid value:\u001b[39m\u001b[38;5;132;01m%s\u001b[39;00m\u001b[38;5;124m'\u001b[39m \u001b[38;5;241m%\u001b[39ms)\n\u001b[0;32m      8\u001b[0m \u001b[38;5;28;01mreturn\u001b[39;00m \u001b[38;5;241m10\u001b[39m\u001b[38;5;241m/\u001b[39mn\n",
      "\u001b[1;31mFooError\u001b[0m: invalid value:0"
     ]
    }
   ],
   "source": [
    "class FooError(ValueError):\n",
    "    pass\n",
    "\n",
    "def foo(s):\n",
    "    n=int(s)\n",
    "    if(n==0):\n",
    "        raise FooError('invalid value:%s' %s)\n",
    "    return 10/n\n",
    "\n",
    "foo('0')"
   ]
  },
  {
   "cell_type": "code",
   "execution_count": null,
   "id": "67d20125",
   "metadata": {},
   "outputs": [
    {
     "ename": "ValueError",
     "evalue": "input error!",
     "output_type": "error",
     "traceback": [
      "\u001b[1;31m---------------------------------------------------------------------------\u001b[0m",
      "\u001b[1;31mZeroDivisionError\u001b[0m                         Traceback (most recent call last)",
      "Cell \u001b[1;32mIn[17], line 3\u001b[0m\n\u001b[0;32m      2\u001b[0m \u001b[38;5;28;01mtry\u001b[39;00m:\n\u001b[1;32m----> 3\u001b[0m     \u001b[38;5;241m10\u001b[39m\u001b[38;5;241m/\u001b[39m\u001b[38;5;241m0\u001b[39m\n\u001b[0;32m      4\u001b[0m \u001b[38;5;28;01mexcept\u001b[39;00m \u001b[38;5;167;01mZeroDivisionError\u001b[39;00m:\n",
      "\u001b[1;31mZeroDivisionError\u001b[0m: division by zero",
      "\nDuring handling of the above exception, another exception occurred:\n",
      "\u001b[1;31mValueError\u001b[0m                                Traceback (most recent call last)",
      "Cell \u001b[1;32mIn[17], line 5\u001b[0m\n\u001b[0;32m      3\u001b[0m     \u001b[38;5;241m10\u001b[39m\u001b[38;5;241m/\u001b[39m\u001b[38;5;241m0\u001b[39m\n\u001b[0;32m      4\u001b[0m \u001b[38;5;28;01mexcept\u001b[39;00m \u001b[38;5;167;01mZeroDivisionError\u001b[39;00m:\n\u001b[1;32m----> 5\u001b[0m     \u001b[38;5;28;01mraise\u001b[39;00m \u001b[38;5;167;01mValueError\u001b[39;00m(\u001b[38;5;124m'\u001b[39m\u001b[38;5;124minput error!\u001b[39m\u001b[38;5;124m'\u001b[39m)\n",
      "\u001b[1;31mValueError\u001b[0m: input error!"
     ]
    }
   ],
   "source": [
    "# 可以进行抛出错误的类型转化\n",
    "try:\n",
    "    10/0\n",
    "except ZeroDivisionError:\n",
    "    raise ValueError('input error!')"
   ]
  },
  {
   "cell_type": "markdown",
   "id": "3eed661b",
   "metadata": {},
   "source": [
    "# 调试"
   ]
  },
  {
   "cell_type": "markdown",
   "id": "42a2e06c",
   "metadata": {},
   "source": [
    "## 断言\n",
    "除了直接打印调试，可以使用assert替代查看"
   ]
  },
  {
   "cell_type": "code",
   "execution_count": 9,
   "id": "1217e660",
   "metadata": {},
   "outputs": [
    {
     "ename": "AssertionError",
     "evalue": "n is zero!",
     "output_type": "error",
     "traceback": [
      "\u001b[1;31m---------------------------------------------------------------------------\u001b[0m",
      "\u001b[1;31mAssertionError\u001b[0m                            Traceback (most recent call last)",
      "Cell \u001b[1;32mIn[9], line 9\u001b[0m\n\u001b[0;32m      6\u001b[0m \u001b[38;5;28;01mdef\u001b[39;00m \u001b[38;5;21mmain\u001b[39m():\n\u001b[0;32m      7\u001b[0m     foo(\u001b[38;5;124m'\u001b[39m\u001b[38;5;124m0\u001b[39m\u001b[38;5;124m'\u001b[39m)\n\u001b[1;32m----> 9\u001b[0m main()\n",
      "Cell \u001b[1;32mIn[9], line 7\u001b[0m, in \u001b[0;36mmain\u001b[1;34m()\u001b[0m\n\u001b[0;32m      6\u001b[0m \u001b[38;5;28;01mdef\u001b[39;00m \u001b[38;5;21mmain\u001b[39m():\n\u001b[1;32m----> 7\u001b[0m     foo(\u001b[38;5;124m'\u001b[39m\u001b[38;5;124m0\u001b[39m\u001b[38;5;124m'\u001b[39m)\n",
      "Cell \u001b[1;32mIn[9], line 3\u001b[0m, in \u001b[0;36mfoo\u001b[1;34m(s)\u001b[0m\n\u001b[0;32m      1\u001b[0m \u001b[38;5;28;01mdef\u001b[39;00m \u001b[38;5;21mfoo\u001b[39m(s):\n\u001b[0;32m      2\u001b[0m     n\u001b[38;5;241m=\u001b[39m\u001b[38;5;28mint\u001b[39m(s)\n\u001b[1;32m----> 3\u001b[0m     \u001b[38;5;28;01massert\u001b[39;00m n\u001b[38;5;241m!=\u001b[39m\u001b[38;5;241m0\u001b[39m,\u001b[38;5;124m'\u001b[39m\u001b[38;5;124mn is zero!\u001b[39m\u001b[38;5;124m'\u001b[39m    \u001b[38;5;66;03m#意思是断言n!=0该为true，否则抛出后面字符串\u001b[39;00m\n\u001b[0;32m      4\u001b[0m     \u001b[38;5;28;01mreturn\u001b[39;00m \u001b[38;5;241m10\u001b[39m\u001b[38;5;241m/\u001b[39mn\n",
      "\u001b[1;31mAssertionError\u001b[0m: n is zero!"
     ]
    }
   ],
   "source": [
    "def foo(s):\n",
    "    n=int(s)\n",
    "    assert n!=0,'n is zero!'    #意思是断言n!=0该为true，否则抛出后面字符串\n",
    "    return 10/n\n",
    "\n",
    "def main():\n",
    "    foo('0')\n",
    "\n",
    "main()"
   ]
  },
  {
   "cell_type": "markdown",
   "id": "6164b6e7",
   "metadata": {},
   "source": [
    "## logging\n",
    "另一种方式，不会抛出错误，会输出到文件。并且，允许你在level指定输出的信息等级（debug info warning error）"
   ]
  },
  {
   "cell_type": "code",
   "execution_count": 30,
   "id": "8e4241bc",
   "metadata": {},
   "outputs": [
    {
     "ename": "ZeroDivisionError",
     "evalue": "division by zero",
     "output_type": "error",
     "traceback": [
      "\u001b[1;31m---------------------------------------------------------------------------\u001b[0m",
      "\u001b[1;31mZeroDivisionError\u001b[0m                         Traceback (most recent call last)",
      "Cell \u001b[1;32mIn[30], line 6\u001b[0m\n\u001b[0;32m      4\u001b[0m n \u001b[38;5;241m=\u001b[39m \u001b[38;5;28mint\u001b[39m(s)\n\u001b[0;32m      5\u001b[0m logging\u001b[38;5;241m.\u001b[39minfo(\u001b[38;5;124m'\u001b[39m\u001b[38;5;124mn = \u001b[39m\u001b[38;5;132;01m%d\u001b[39;00m\u001b[38;5;124m'\u001b[39m \u001b[38;5;241m%\u001b[39m n)\n\u001b[1;32m----> 6\u001b[0m \u001b[38;5;28mprint\u001b[39m(\u001b[38;5;241m10\u001b[39m \u001b[38;5;241m/\u001b[39m n)\n",
      "\u001b[1;31mZeroDivisionError\u001b[0m: division by zero"
     ]
    }
   ],
   "source": [
    "import logging\n",
    "logging.basicConfig(level=logging.INFO)\n",
    "s = '0'\n",
    "n = int(s)\n",
    "logging.info('n = %d' % n)\n",
    "print(10 / n)"
   ]
  },
  {
   "cell_type": "markdown",
   "id": "3433bcda",
   "metadata": {},
   "source": [
    "## pdb.set_trace()\n",
    "设置断点的函数"
   ]
  },
  {
   "cell_type": "code",
   "execution_count": null,
   "id": "155f7d64",
   "metadata": {},
   "outputs": [
    {
     "name": "stdout",
     "output_type": "stream",
     "text": [
      "--Return--\n",
      "None\n",
      "> \u001b[1;32mc:\\users\\krinv\\appdata\\local\\temp\\ipykernel_32864\\816437087.py\u001b[0m(5)\u001b[0;36m<module>\u001b[1;34m()\u001b[0m\n",
      "\n",
      "--KeyboardInterrupt--\n",
      "\n",
      "KeyboardInterrupt: Interrupted by user\n"
     ]
    },
    {
     "ename": "ZeroDivisionError",
     "evalue": "division by zero",
     "output_type": "error",
     "traceback": [
      "\u001b[1;31m---------------------------------------------------------------------------\u001b[0m",
      "\u001b[1;31mZeroDivisionError\u001b[0m                         Traceback (most recent call last)",
      "Cell \u001b[1;32mIn[31], line 6\u001b[0m\n\u001b[0;32m      4\u001b[0m n \u001b[38;5;241m=\u001b[39m \u001b[38;5;28mint\u001b[39m(s)\n\u001b[0;32m      5\u001b[0m pdb\u001b[38;5;241m.\u001b[39mset_trace() \u001b[38;5;66;03m# 运行到这里会自动暂停\u001b[39;00m\n\u001b[1;32m----> 6\u001b[0m \u001b[38;5;28mprint\u001b[39m(\u001b[38;5;241m10\u001b[39m \u001b[38;5;241m/\u001b[39m n)\n",
      "\u001b[1;31mZeroDivisionError\u001b[0m: division by zero"
     ]
    }
   ],
   "source": [
    "import pdb\n",
    "\n",
    "s = '0'\n",
    "n = int(s)\n",
    "pdb.set_trace() # 运行到这里会自动暂停，\n",
    "print(10 / n)\n"
   ]
  },
  {
   "cell_type": "markdown",
   "id": "512475da",
   "metadata": {},
   "source": [
    "# 单元测试\n",
    "对于一个模块、函数、类进行正确性检验的测试工作"
   ]
  },
  {
   "cell_type": "code",
   "execution_count": null,
   "id": "6954e1c9",
   "metadata": {},
   "outputs": [
    {
     "name": "stderr",
     "output_type": "stream",
     "text": [
      ".....\n",
      "----------------------------------------------------------------------\n",
      "Ran 5 tests in 0.002s\n",
      "\n",
      "OK\n"
     ]
    }
   ],
   "source": [
    "#Dict类\n",
    "class Dict(dict):\n",
    "    def __init__(self,**kw):\n",
    "        super().__init__(**kw)\n",
    "    \n",
    "    def __getattr__(self,key):\n",
    "        try:\n",
    "            return self[key]\n",
    "        except KeyError:\n",
    "            raise AttributeError(r\"'Dict' object has no attribute '%s'\"%key)\n",
    "    \n",
    "    def __setattr__(self, key, value):\n",
    "        self[key]=value\n",
    "\n",
    "\n",
    "#使用unittest模块编写测试\n",
    "import unittest\n",
    "\n",
    "class TestDict(unittest.TestCase):\n",
    "    #测试初始化功能\n",
    "    def test_init(self):\n",
    "        d = Dict(a=1, b='test')     #创建并导入参数\n",
    "        self.assertEqual(d.a, 1)    #验证属性访问功能，d.a是否为1\n",
    "        self.assertEqual(d.b, 'test')   #验证属性访问\n",
    "        self.assertTrue(isinstance(d, dict))    #验证继承关系，d是否是dict的子类\n",
    "\n",
    "    #测试通过键赋值功能\n",
    "    def test_key(self):\n",
    "        d = Dict()  #创建空实例\n",
    "        d['key'] = 'value'  #使用字典语法设置键值对\n",
    "        self.assertEqual(d.key, 'value')    #验证属性访问能否获取键值\n",
    "\n",
    "    #测试通过属性赋值功能\n",
    "    def test_attr(self):\n",
    "        d = Dict()\n",
    "        d.key = 'value'\n",
    "        self.assertTrue('key' in d) #验证是否有key键存在\n",
    "        self.assertEqual(d['key'], 'value') #验证字典语法能否访问获取属性值\n",
    "\n",
    "    #测试访问不存在键时的抛出异常\n",
    "    def test_keyerror(self):\n",
    "        d = Dict()  \n",
    "        #验证访问不存在键时是否引发KeyError\n",
    "        with self.assertRaises(KeyError):\n",
    "            value = d['empty']\n",
    "\n",
    "    #测试访问不存在属性时的抛出异常\n",
    "    def test_attrerror(self):\n",
    "        d = Dict()\n",
    "        #验证当访问不存在属性是否能够引发AttributeError\n",
    "        with self.assertRaises(AttributeError):\n",
    "            value = d.empty\n",
    "\n",
    "if __name__=='__main__':\n",
    "    #jupyter环境下的特殊参数设置\n",
    "    suite = unittest.TestLoader().loadTestsFromTestCase(TestDict)\n",
    "    unittest.TextTestRunner().run(suite)"
   ]
  },
  {
   "cell_type": "code",
   "execution_count": null,
   "id": "13ee9a9f",
   "metadata": {},
   "outputs": [],
   "source": []
  }
 ],
 "metadata": {
  "kernelspec": {
   "display_name": "base",
   "language": "python",
   "name": "python3"
  },
  "language_info": {
   "codemirror_mode": {
    "name": "ipython",
    "version": 3
   },
   "file_extension": ".py",
   "mimetype": "text/x-python",
   "name": "python",
   "nbconvert_exporter": "python",
   "pygments_lexer": "ipython3",
   "version": "3.12.7"
  }
 },
 "nbformat": 4,
 "nbformat_minor": 5
}
