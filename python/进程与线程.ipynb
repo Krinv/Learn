{
 "cells": [
  {
   "cell_type": "markdown",
   "id": "901998fe",
   "metadata": {},
   "source": [
    "# 多进程\n",
    "受制于windows和jupyter环境以及使用频度，暂且搁置"
   ]
  },
  {
   "cell_type": "code",
   "execution_count": null,
   "id": "c11786d1",
   "metadata": {},
   "outputs": [],
   "source": [
    "#win上没有fork，因而无法使用\n",
    "import os\n",
    "print('Process (%s) start...' % os.getpid())\n",
    "# Only works on Unix/Linux/macOS:\n",
    "pid = os.fork()\n",
    "if pid == 0:\n",
    "    print('I am child process (%s) and my parent is %s.' % (os.getpid(), os.getppid()))\n",
    "else:\n",
    "    print('I (%s) just created a child process (%s).' % (os.getpid(), pid))"
   ]
  },
  {
   "cell_type": "code",
   "execution_count": 7,
   "id": "e8c69c9f",
   "metadata": {},
   "outputs": [
    {
     "name": "stdout",
     "output_type": "stream",
     "text": [
      "Parent process 21172.\n",
      "Child process will start.\n",
      "Child process ended with exitcode: 1\n",
      "Child process end.\n"
     ]
    }
   ],
   "source": [
    "#跨平台版本的多进程支持\n",
    "from multiprocessing import Process\n",
    "import os\n",
    "import sys\n",
    "\n",
    "# 子进程要执行的代码\n",
    "def run_proc(name):\n",
    "    print('Run child process %s (%s)...' % (name, os.getpid()))\n",
    "    sys.stdout.flush()   # 确保输出被刷新\n",
    "\n",
    "\n",
    "if __name__=='__main__':\n",
    "    print('Parent process %s.' % os.getpid())\n",
    "    p = Process(target=run_proc, args=('test',))\n",
    "    print('Child process will start.')\n",
    "    p.start()\n",
    "    p.join()\n",
    "\n",
    "    #在jupyter环境中不会实现，但是在window下命令行运行是可以的\n",
    "    if p.exitcode == 0:\n",
    "        print('Child process ended successfully.')\n",
    "    else:\n",
    "        print('Child process ended with exitcode:', p.exitcode)\n",
    "\n",
    "    print('Child process end.')"
   ]
  },
  {
   "cell_type": "markdown",
   "id": "caabcc4f",
   "metadata": {},
   "source": [
    "# Pool\n",
    "要启动大量子进程，可使用进程池的方式批量创建"
   ]
  },
  {
   "cell_type": "code",
   "execution_count": null,
   "id": "6a2a29bc",
   "metadata": {},
   "outputs": [
    {
     "name": "stdout",
     "output_type": "stream",
     "text": [
      "Parent process 21172.\n",
      "Waiting for all subprocesses done...\n"
     ]
    }
   ],
   "source": [
    "from multiprocessing import Pool\n",
    "import os, time, random\n",
    "\n",
    "def long_time_task(name):\n",
    "    print('Run task %s (%s)...' % (name, os.getpid()))\n",
    "    start = time.time()\n",
    "    time.sleep(random.random() * 3)\n",
    "    end = time.time()\n",
    "    print('Task %s runs %0.2f seconds.' % (name, (end - start)))\n",
    "\n",
    "if __name__=='__main__':\n",
    "    print('Parent process %s.' % os.getpid())\n",
    "    p = Pool(4)\n",
    "    for i in range(5):\n",
    "        p.apply_async(long_time_task, args=(i,))\n",
    "    print('Waiting for all subprocesses done...')\n",
    "    p.close()\n",
    "    p.join()\n",
    "    print('All subprocesses done.')\n"
   ]
  }
 ],
 "metadata": {
  "kernelspec": {
   "display_name": "base",
   "language": "python",
   "name": "python3"
  },
  "language_info": {
   "codemirror_mode": {
    "name": "ipython",
    "version": 3
   },
   "file_extension": ".py",
   "mimetype": "text/x-python",
   "name": "python",
   "nbconvert_exporter": "python",
   "pygments_lexer": "ipython3",
   "version": "3.12.7"
  }
 },
 "nbformat": 4,
 "nbformat_minor": 5
}
