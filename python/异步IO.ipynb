{
 "cells": [
  {
   "cell_type": "markdown",
   "id": "3bbb7e61",
   "metadata": {},
   "source": [
    "# 协程\n",
    "微线程。\n",
    "\n",
    "子程序（函数）在所有语言中都是层级调用，通过栈实现，一个线程就是执行一个子程序。\n",
    "\n",
    "协程在执行过程中，子程序内部可中断，然后转而执行别的子程序，在后面返回接着执行，不是函数调用。"
   ]
  },
  {
   "cell_type": "markdown",
   "id": "1ea1119f",
   "metadata": {},
   "source": [
    "python中的协程支持，通过generator实现。\n",
    "\n",
    "python中的yield不仅可以返回一个值，还可以接收调用者发出的参数"
   ]
  },
  {
   "cell_type": "markdown",
   "id": "5f64874a",
   "metadata": {},
   "source": [
    "## 生产和消费例子\n",
    "传统的生产者-消费者模型是一个线程写信息，一个线程取消息，通过锁机制控制队列和等待，但一不小心可能死锁\n",
    "\n",
    "改用协程，生产者生产消息后，直接通过yield跳转到消费者开始执行，完毕后，切换会生产者，效率提高"
   ]
  },
  {
   "cell_type": "code",
   "execution_count": 2,
   "id": "5d3f8a55",
   "metadata": {},
   "outputs": [
    {
     "name": "stdout",
     "output_type": "stream",
     "text": [
      "[Producer]Producing 1...\n",
      "[Consumer]Consuming 1...\n",
      "[PRODUCER]Consumer return: 200 OK\n",
      "[Producer]Producing 2...\n",
      "[Consumer]Consuming 2...\n",
      "[PRODUCER]Consumer return: 200 OK\n",
      "[Producer]Producing 3...\n",
      "[Consumer]Consuming 3...\n",
      "[PRODUCER]Consumer return: 200 OK\n",
      "[Producer]Producing 4...\n",
      "[Consumer]Consuming 4...\n",
      "[PRODUCER]Consumer return: 200 OK\n",
      "[Producer]Producing 5...\n",
      "[Consumer]Consuming 5...\n",
      "[PRODUCER]Consumer return: 200 OK\n"
     ]
    }
   ],
   "source": [
    "#消费者\n",
    "def consumer():\n",
    "    r=''\n",
    "    while True:\n",
    "        n=yield r   #首次执行到此停止，返回空字符串r，等待外部发送数据\n",
    "        \n",
    "        #为None或空时\n",
    "        if not n :\n",
    "            return\n",
    "\n",
    "        #n非空时继续执行    \n",
    "        print('[Consumer]Consuming %s...' % n)\n",
    "        r = '200 OK'\n",
    "\n",
    "def produce(c):\n",
    "    #启动生成器\n",
    "    c.send(None)\n",
    "    n=0\n",
    "\n",
    "    while n<5:\n",
    "        n=n+1\n",
    "        print('[Producer]Producing %s...' % n)\n",
    "\n",
    "        #n=1执行到此，发送数据\n",
    "        r=c.send(n)\n",
    "        print('[PRODUCER]Consumer return: %s' % r)\n",
    "    \n",
    "    c.close()\n",
    "\n",
    "c=consumer()    #创建生成器对象，但内部代码未执行\n",
    "produce(c)\n"
   ]
  },
  {
   "cell_type": "markdown",
   "id": "1d85e766",
   "metadata": {},
   "source": [
    "# asyncio\n",
    "python 3.4引入的标准库，内置了对异步IO的支持\n",
    "\n",
    "asyncio的编程模型是一个消息循环，模块内部实现了eventloop，将需要执行的协程扔到eventloop中执行，实现了异步io"
   ]
  },
  {
   "cell_type": "markdown",
   "id": "1e2acbf8",
   "metadata": {},
   "source": [
    "asyncio提供的@asyncio.coroutine可以把一个generator标记为coroutine类型，然后在coroutine内部用yield from调用另一个coroutine实现异步操作"
   ]
  },
  {
   "cell_type": "code",
   "execution_count": 7,
   "id": "c39247d9",
   "metadata": {},
   "outputs": [
    {
     "name": "stdout",
     "output_type": "stream",
     "text": [
      "Hello world!\n",
      "Hello again!\n"
     ]
    }
   ],
   "source": [
    "# Hello World例子\n",
    "import asyncio\n",
    "\n",
    "async def hello():\n",
    "    print(\"Hello world!\")\n",
    "\n",
    "    #异步调用asyncio.sleep(1):\n",
    "    await asyncio.sleep(1)\n",
    "    print(\"Hello again!\")\n",
    "\n",
    "#asyncio.run()设置作为程序的主入口点\n",
    "await hello()   #jupyter交互环境中已经启动了事件循环"
   ]
  },
  {
   "cell_type": "code",
   "execution_count": null,
   "id": "b38b7e86",
   "metadata": {},
   "outputs": [
    {
     "name": "stdout",
     "output_type": "stream",
     "text": [
      "Hello Bob! (<function current_thread at 0x000001F3156214E0>)\n",
      "Hello Ash! (<function current_thread at 0x000001F3156214E0>)\n",
      "Hello Bob again! (<function current_thread at 0x000001F3156214E0>)\n",
      "Hello Ash again! (<function current_thread at 0x000001F3156214E0>)\n",
      "['Bob', 'Ash']\n"
     ]
    }
   ],
   "source": [
    "import threading\n",
    "\n",
    "#并发执行特点体现\n",
    "async def hello(name):\n",
    "    #打印name和当前线程\n",
    "    print(\"Hello %s! (%s)\" %(name,threading.current_thread))\n",
    "\n",
    "    #在中断期间不是停止，而是去执行其他异步函数\n",
    "    await asyncio.sleep(1)\n",
    "\n",
    "    print(\"Hello %s again! (%s)\" %(name,threading.current_thread))\n",
    "\n",
    "    return name\n",
    "\n",
    "#使用gather同时调度多个async函数\n",
    "async def main():\n",
    "    L=await asyncio.gather(hello(\"Bob\"),hello(\"Ash\"))\n",
    "    print(L)\n",
    "\n",
    "await main()\n",
    "\n",
    "#打印结果可知，所有内容都是由一个线程执行"
   ]
  },
  {
   "cell_type": "code",
   "execution_count": null,
   "id": "d7d7968f",
   "metadata": {},
   "outputs": [
    {
     "name": "stdout",
     "output_type": "stream",
     "text": [
      "wget www.sina.com.cn...\n",
      "wget www.sohu.com...\n",
      "wget www.baidu.com...\n",
      "www.sina.com.cn header > HTTP/1.1 302 Moved Temporarily\n",
      "www.sina.com.cn header > Server: nginx\n",
      "www.sina.com.cn header > Date: Fri, 15 Aug 2025 06:36:13 GMT\n",
      "www.sina.com.cn header > Content-Type: text/html\n",
      "www.sina.com.cn header > Content-Length: 138\n",
      "www.sina.com.cn header > Connection: close\n",
      "www.sina.com.cn header > Location: https://www.sina.com.cn/\n",
      "www.sina.com.cn header > X-Via-CDN: f=sinaedge,s=cmcc.hangzhou.union.73.nb.sinaedge.com,c=39.174.232.254;\n",
      "Done www.sina.com.cn\n",
      "www.sohu.com header > HTTP/1.1 302 Found\n",
      "www.sohu.com header > Location: https://www.sohu.com/\n",
      "www.sohu.com header > Content-Length: 0\n",
      "www.sohu.com header > X-NWS-LOG-UUID: 16316417526576983706\n",
      "www.sohu.com header > Connection: close\n",
      "www.sohu.com header > Server: D0\n",
      "www.sohu.com header > Date: Fri, 15 Aug 2025 06:36:13 GMT\n",
      "www.sohu.com header > X-Cache-Lookup: Return Directly\n",
      "Done www.sohu.com\n",
      "www.baidu.com header > HTTP/1.0 200 OK\n",
      "www.baidu.com header > Accept-Ranges: bytes\n",
      "www.baidu.com header > Cache-Control: no-cache\n",
      "www.baidu.com header > Content-Length: 29506\n",
      "www.baidu.com header > Content-Type: text/html\n",
      "www.baidu.com header > Date: Fri, 15 Aug 2025 06:36:13 GMT\n",
      "www.baidu.com header > P3p: CP=\" OTI DSP COR IVA OUR IND COM \"\n",
      "www.baidu.com header > P3p: CP=\" OTI DSP COR IVA OUR IND COM \"\n",
      "www.baidu.com header > Pragma: no-cache\n",
      "www.baidu.com header > Server: BWS/1.1\n",
      "www.baidu.com header > Set-Cookie: BAIDUID=0E8F36CE5FF577DFF90A927E6759E31B:FG=1; expires=Thu, 31-Dec-37 23:55:55 GMT; max-age=2147483647; path=/; domain=.baidu.com\n",
      "www.baidu.com header > Set-Cookie: BIDUPSID=0E8F36CE5FF577DFF90A927E6759E31B; expires=Thu, 31-Dec-37 23:55:55 GMT; max-age=2147483647; path=/; domain=.baidu.com\n",
      "www.baidu.com header > Set-Cookie: PSTM=1755239773; expires=Thu, 31-Dec-37 23:55:55 GMT; max-age=2147483647; path=/; domain=.baidu.com\n",
      "www.baidu.com header > Set-Cookie: BAIDUID=0E8F36CE5FF577DFBB3BE662BA0998CB:FG=1; max-age=31536000; expires=Sat, 15-Aug-26 06:36:13 GMT; domain=.baidu.com; path=/; version=1; comment=bd\n",
      "www.baidu.com header > Traceid: 1755239773029787495410816376112722413207\n",
      "www.baidu.com header > Vary: Accept-Encoding\n",
      "www.baidu.com header > X-Ua-Compatible: IE=Edge,chrome=1\n",
      "www.baidu.com header > X-Xss-Protection: 1;mode=block\n",
      "Done www.baidu.com\n"
     ]
    }
   ],
   "source": [
    "#将上例中的sleep换成真正的IO操作，则多个并发的IO操作实际可由同一个线程并发执行\n",
    "import asyncio\n",
    "\n",
    "#异步抓取函数\n",
    "async def wget(host):\n",
    "    print(f\"wget {host}...\")\n",
    "\n",
    "    #创建到主机80端口的异步连接\n",
    "    reader,writer = await asyncio.open_connection(host,80)\n",
    "\n",
    "    #发送http请求：\n",
    "    header=f\"GET / HTTP/1.0\\r\\nHost: {host}\\r\\n\\r\\n\"\n",
    "\n",
    "    writer.write(header.encode(\"utf-8\"))\n",
    "    await writer.drain()    #等待数据发送完成\n",
    "\n",
    "    #读取处理响应头\n",
    "    while True:\n",
    "        #异步读取一行\n",
    "        line = await reader.readline()\n",
    "        #遇到空行表示头结束\n",
    "        if line == b\"\\r\\n\":\n",
    "            break\n",
    "        print(\"%s header > %s\" % (host,line.decode(\"utf-8\").rstrip()))\n",
    "\n",
    "    #关闭连接\n",
    "    writer.close()\n",
    "    await writer.wait_closed()\n",
    "    print(f\"Done {host}\")\n",
    "\n",
    "#并发执行三个抓取任务\n",
    "async def main():\n",
    "        await asyncio.gather(wget(\"www.sina.com.cn\"),wget(\"www.sohu.com\"),wget(\"www.baidu.com\"))\n",
    "\n",
    "await(main())"
   ]
  }
 ],
 "metadata": {
  "kernelspec": {
   "display_name": "base",
   "language": "python",
   "name": "python3"
  },
  "language_info": {
   "codemirror_mode": {
    "name": "ipython",
    "version": 3
   },
   "file_extension": ".py",
   "mimetype": "text/x-python",
   "name": "python",
   "nbconvert_exporter": "python",
   "pygments_lexer": "ipython3",
   "version": "3.12.7"
  }
 },
 "nbformat": 4,
 "nbformat_minor": 5
}
